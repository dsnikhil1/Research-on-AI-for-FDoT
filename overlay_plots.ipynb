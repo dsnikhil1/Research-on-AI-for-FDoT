{
 "cells": [
  {
   "cell_type": "code",
   "execution_count": 7,
   "id": "aa3e8cab",
   "metadata": {},
   "outputs": [],
   "source": [
    "import pandas as pd\n",
    "import matplotlib.pyplot as plt\n",
    "import matplotlib.dates as mdates\n",
    "from datetime import datetime"
   ]
  },
  {
   "cell_type": "code",
   "execution_count": 8,
   "id": "92066c17",
   "metadata": {},
   "outputs": [
    {
     "data": {
      "text/html": [
       "<div>\n",
       "<style scoped>\n",
       "    .dataframe tbody tr th:only-of-type {\n",
       "        vertical-align: middle;\n",
       "    }\n",
       "\n",
       "    .dataframe tbody tr th {\n",
       "        vertical-align: top;\n",
       "    }\n",
       "\n",
       "    .dataframe thead th {\n",
       "        text-align: right;\n",
       "    }\n",
       "</style>\n",
       "<table border=\"1\" class=\"dataframe\">\n",
       "  <thead>\n",
       "    <tr style=\"text-align: right;\">\n",
       "      <th></th>\n",
       "      <th>Timestamp</th>\n",
       "      <th>Type</th>\n",
       "      <th>Aggregate ramp metering rate</th>\n",
       "      <th>Aggregate Mainline num vehicles</th>\n",
       "      <th>Aggregate Mainline flow rate</th>\n",
       "      <th>Green_time</th>\n",
       "      <th>Aggregate Ramp Demand num vehicles</th>\n",
       "      <th>Aggregate Ramp Demand flow rate</th>\n",
       "      <th>Aggregate Ramp Passage num vehicles</th>\n",
       "      <th>Aggregate Ramp Passage flow rate</th>\n",
       "      <th>...</th>\n",
       "      <th>Average Flow Rate Lane 2 DeepSORT</th>\n",
       "      <th>Max Speed Lane 2 DeepSORT</th>\n",
       "      <th>Average Vehicle Density Lane 2 DeepSORT</th>\n",
       "      <th>Congestion measure Lane 2 DeepSORT</th>\n",
       "      <th>Average Speed Lane 3 DeepSORT</th>\n",
       "      <th>Number of Vehicles Lane 3 DeepSORT</th>\n",
       "      <th>Average Flow Rate Lane 3 DeepSORT</th>\n",
       "      <th>Max Speed Lane 3 DeepSORT</th>\n",
       "      <th>Average Vehicle Density Lane 3 DeepSORT</th>\n",
       "      <th>Congestion measure Lane 3 DeepSORT</th>\n",
       "    </tr>\n",
       "  </thead>\n",
       "  <tbody>\n",
       "    <tr>\n",
       "      <th>0</th>\n",
       "      <td>2023-04-19 15:15:00</td>\n",
       "      <td>Ramp Meter - Lane 1 Active Rate</td>\n",
       "      <td>445.000000</td>\n",
       "      <td>95</td>\n",
       "      <td>1140</td>\n",
       "      <td>49.9</td>\n",
       "      <td>18</td>\n",
       "      <td>216</td>\n",
       "      <td>28</td>\n",
       "      <td>336</td>\n",
       "      <td>...</td>\n",
       "      <td>876</td>\n",
       "      <td>51.092600</td>\n",
       "      <td>32.748332</td>\n",
       "      <td>0.523548</td>\n",
       "      <td>30.700508</td>\n",
       "      <td>96</td>\n",
       "      <td>1152</td>\n",
       "      <td>87.587314</td>\n",
       "      <td>37.523809</td>\n",
       "      <td>0.350513</td>\n",
       "    </tr>\n",
       "    <tr>\n",
       "      <th>1</th>\n",
       "      <td>2023-04-19 15:20:00</td>\n",
       "      <td>Ramp Meter - Lane 1 Active Rate</td>\n",
       "      <td>377.500000</td>\n",
       "      <td>57</td>\n",
       "      <td>684</td>\n",
       "      <td>65.0</td>\n",
       "      <td>34</td>\n",
       "      <td>408</td>\n",
       "      <td>40</td>\n",
       "      <td>480</td>\n",
       "      <td>...</td>\n",
       "      <td>504</td>\n",
       "      <td>76.638900</td>\n",
       "      <td>33.178104</td>\n",
       "      <td>0.198212</td>\n",
       "      <td>15.566135</td>\n",
       "      <td>30</td>\n",
       "      <td>360</td>\n",
       "      <td>38.319450</td>\n",
       "      <td>23.127128</td>\n",
       "      <td>0.406220</td>\n",
       "    </tr>\n",
       "    <tr>\n",
       "      <th>2</th>\n",
       "      <td>2023-04-19 15:30:00</td>\n",
       "      <td>Ramp Meter - Lane 1 Active Rate</td>\n",
       "      <td>427.500000</td>\n",
       "      <td>104</td>\n",
       "      <td>1248</td>\n",
       "      <td>38.9</td>\n",
       "      <td>23</td>\n",
       "      <td>276</td>\n",
       "      <td>25</td>\n",
       "      <td>300</td>\n",
       "      <td>...</td>\n",
       "      <td>888</td>\n",
       "      <td>76.638900</td>\n",
       "      <td>37.369520</td>\n",
       "      <td>0.310060</td>\n",
       "      <td>22.953305</td>\n",
       "      <td>75</td>\n",
       "      <td>900</td>\n",
       "      <td>61.311120</td>\n",
       "      <td>39.210039</td>\n",
       "      <td>0.374374</td>\n",
       "    </tr>\n",
       "    <tr>\n",
       "      <th>3</th>\n",
       "      <td>2023-04-19 15:35:00</td>\n",
       "      <td>Ramp Meter - Lane 1 Active Rate</td>\n",
       "      <td>416.666667</td>\n",
       "      <td>95</td>\n",
       "      <td>1140</td>\n",
       "      <td>57.9</td>\n",
       "      <td>28</td>\n",
       "      <td>336</td>\n",
       "      <td>31</td>\n",
       "      <td>372</td>\n",
       "      <td>...</td>\n",
       "      <td>852</td>\n",
       "      <td>55.737382</td>\n",
       "      <td>37.256231</td>\n",
       "      <td>0.410293</td>\n",
       "      <td>23.031611</td>\n",
       "      <td>68</td>\n",
       "      <td>816</td>\n",
       "      <td>61.311120</td>\n",
       "      <td>35.429566</td>\n",
       "      <td>0.375651</td>\n",
       "    </tr>\n",
       "    <tr>\n",
       "      <th>4</th>\n",
       "      <td>2023-04-19 15:40:00</td>\n",
       "      <td>Ramp Meter - Lane 1 Active Rate</td>\n",
       "      <td>410.000000</td>\n",
       "      <td>85</td>\n",
       "      <td>1020</td>\n",
       "      <td>40.3</td>\n",
       "      <td>19</td>\n",
       "      <td>228</td>\n",
       "      <td>23</td>\n",
       "      <td>276</td>\n",
       "      <td>...</td>\n",
       "      <td>792</td>\n",
       "      <td>87.587314</td>\n",
       "      <td>33.342369</td>\n",
       "      <td>0.271199</td>\n",
       "      <td>18.473319</td>\n",
       "      <td>54</td>\n",
       "      <td>648</td>\n",
       "      <td>87.587314</td>\n",
       "      <td>35.077617</td>\n",
       "      <td>0.210913</td>\n",
       "    </tr>\n",
       "    <tr>\n",
       "      <th>5</th>\n",
       "      <td>2023-04-19 15:45:00</td>\n",
       "      <td>Ramp Meter - Lane 1 Active Rate</td>\n",
       "      <td>390.000000</td>\n",
       "      <td>75</td>\n",
       "      <td>900</td>\n",
       "      <td>47.9</td>\n",
       "      <td>20</td>\n",
       "      <td>240</td>\n",
       "      <td>29</td>\n",
       "      <td>348</td>\n",
       "      <td>...</td>\n",
       "      <td>636</td>\n",
       "      <td>87.587314</td>\n",
       "      <td>31.222452</td>\n",
       "      <td>0.232567</td>\n",
       "      <td>18.121740</td>\n",
       "      <td>43</td>\n",
       "      <td>516</td>\n",
       "      <td>76.638900</td>\n",
       "      <td>28.474088</td>\n",
       "      <td>0.236456</td>\n",
       "    </tr>\n",
       "    <tr>\n",
       "      <th>6</th>\n",
       "      <td>2023-04-19 15:50:00</td>\n",
       "      <td>Ramp Meter - Lane 1 Active Rate</td>\n",
       "      <td>410.000000</td>\n",
       "      <td>76</td>\n",
       "      <td>912</td>\n",
       "      <td>60.9</td>\n",
       "      <td>25</td>\n",
       "      <td>300</td>\n",
       "      <td>35</td>\n",
       "      <td>420</td>\n",
       "      <td>...</td>\n",
       "      <td>648</td>\n",
       "      <td>76.638900</td>\n",
       "      <td>35.652781</td>\n",
       "      <td>0.237155</td>\n",
       "      <td>14.848676</td>\n",
       "      <td>42</td>\n",
       "      <td>504</td>\n",
       "      <td>47.162400</td>\n",
       "      <td>33.942419</td>\n",
       "      <td>0.314841</td>\n",
       "    </tr>\n",
       "    <tr>\n",
       "      <th>7</th>\n",
       "      <td>2023-04-19 15:55:00</td>\n",
       "      <td>Ramp Meter - Lane 1 Active Rate</td>\n",
       "      <td>390.000000</td>\n",
       "      <td>79</td>\n",
       "      <td>948</td>\n",
       "      <td>56.7</td>\n",
       "      <td>24</td>\n",
       "      <td>288</td>\n",
       "      <td>35</td>\n",
       "      <td>420</td>\n",
       "      <td>...</td>\n",
       "      <td>540</td>\n",
       "      <td>87.587314</td>\n",
       "      <td>28.532055</td>\n",
       "      <td>0.216082</td>\n",
       "      <td>20.785702</td>\n",
       "      <td>50</td>\n",
       "      <td>600</td>\n",
       "      <td>76.638900</td>\n",
       "      <td>28.865996</td>\n",
       "      <td>0.271216</td>\n",
       "    </tr>\n",
       "    <tr>\n",
       "      <th>8</th>\n",
       "      <td>2023-04-19 16:00:00</td>\n",
       "      <td>Ramp Meter - Lane 1 Active Rate</td>\n",
       "      <td>400.000000</td>\n",
       "      <td>83</td>\n",
       "      <td>996</td>\n",
       "      <td>57.7</td>\n",
       "      <td>20</td>\n",
       "      <td>240</td>\n",
       "      <td>35</td>\n",
       "      <td>420</td>\n",
       "      <td>...</td>\n",
       "      <td>600</td>\n",
       "      <td>76.638900</td>\n",
       "      <td>33.487212</td>\n",
       "      <td>0.233788</td>\n",
       "      <td>18.525296</td>\n",
       "      <td>51</td>\n",
       "      <td>612</td>\n",
       "      <td>76.638900</td>\n",
       "      <td>33.035910</td>\n",
       "      <td>0.241722</td>\n",
       "    </tr>\n",
       "    <tr>\n",
       "      <th>9</th>\n",
       "      <td>2023-04-19 16:05:00</td>\n",
       "      <td>Ramp Meter - Lane 1 Active Rate</td>\n",
       "      <td>411.250000</td>\n",
       "      <td>85</td>\n",
       "      <td>1020</td>\n",
       "      <td>58.8</td>\n",
       "      <td>19</td>\n",
       "      <td>228</td>\n",
       "      <td>35</td>\n",
       "      <td>420</td>\n",
       "      <td>...</td>\n",
       "      <td>708</td>\n",
       "      <td>87.587314</td>\n",
       "      <td>34.850856</td>\n",
       "      <td>0.231942</td>\n",
       "      <td>16.949713</td>\n",
       "      <td>62</td>\n",
       "      <td>744</td>\n",
       "      <td>55.737382</td>\n",
       "      <td>43.894549</td>\n",
       "      <td>0.304100</td>\n",
       "    </tr>\n",
       "    <tr>\n",
       "      <th>10</th>\n",
       "      <td>2023-04-19 16:15:00</td>\n",
       "      <td>Ramp Meter - Lane 1 Active Rate</td>\n",
       "      <td>395.000000</td>\n",
       "      <td>72</td>\n",
       "      <td>864</td>\n",
       "      <td>59.9</td>\n",
       "      <td>25</td>\n",
       "      <td>300</td>\n",
       "      <td>37</td>\n",
       "      <td>444</td>\n",
       "      <td>...</td>\n",
       "      <td>720</td>\n",
       "      <td>87.587314</td>\n",
       "      <td>41.894536</td>\n",
       "      <td>0.196216</td>\n",
       "      <td>17.357542</td>\n",
       "      <td>50</td>\n",
       "      <td>600</td>\n",
       "      <td>61.311120</td>\n",
       "      <td>34.567106</td>\n",
       "      <td>0.283106</td>\n",
       "    </tr>\n",
       "    <tr>\n",
       "      <th>11</th>\n",
       "      <td>2023-04-19 16:20:00</td>\n",
       "      <td>Ramp Meter - Lane 1 Active Rate</td>\n",
       "      <td>418.000000</td>\n",
       "      <td>84</td>\n",
       "      <td>1008</td>\n",
       "      <td>43.0</td>\n",
       "      <td>25</td>\n",
       "      <td>300</td>\n",
       "      <td>29</td>\n",
       "      <td>348</td>\n",
       "      <td>...</td>\n",
       "      <td>792</td>\n",
       "      <td>47.162400</td>\n",
       "      <td>38.365457</td>\n",
       "      <td>0.437712</td>\n",
       "      <td>20.728634</td>\n",
       "      <td>66</td>\n",
       "      <td>792</td>\n",
       "      <td>43.793657</td>\n",
       "      <td>38.208018</td>\n",
       "      <td>0.473325</td>\n",
       "    </tr>\n",
       "    <tr>\n",
       "      <th>12</th>\n",
       "      <td>2023-04-19 16:25:00</td>\n",
       "      <td>Ramp Meter - Lane 1 Active Rate</td>\n",
       "      <td>410.000000</td>\n",
       "      <td>84</td>\n",
       "      <td>1008</td>\n",
       "      <td>100.7</td>\n",
       "      <td>17</td>\n",
       "      <td>204</td>\n",
       "      <td>19</td>\n",
       "      <td>228</td>\n",
       "      <td>...</td>\n",
       "      <td>720</td>\n",
       "      <td>43.793657</td>\n",
       "      <td>41.912389</td>\n",
       "      <td>0.392264</td>\n",
       "      <td>17.107748</td>\n",
       "      <td>60</td>\n",
       "      <td>720</td>\n",
       "      <td>47.162400</td>\n",
       "      <td>42.086195</td>\n",
       "      <td>0.362741</td>\n",
       "    </tr>\n",
       "    <tr>\n",
       "      <th>13</th>\n",
       "      <td>2023-04-19 16:30:00</td>\n",
       "      <td>Ramp Meter - Lane 1 Active Rate</td>\n",
       "      <td>411.250000</td>\n",
       "      <td>83</td>\n",
       "      <td>996</td>\n",
       "      <td>42.3</td>\n",
       "      <td>16</td>\n",
       "      <td>192</td>\n",
       "      <td>26</td>\n",
       "      <td>312</td>\n",
       "      <td>...</td>\n",
       "      <td>732</td>\n",
       "      <td>87.587314</td>\n",
       "      <td>35.371367</td>\n",
       "      <td>0.236275</td>\n",
       "      <td>16.673999</td>\n",
       "      <td>46</td>\n",
       "      <td>552</td>\n",
       "      <td>43.793657</td>\n",
       "      <td>33.105435</td>\n",
       "      <td>0.380740</td>\n",
       "    </tr>\n",
       "    <tr>\n",
       "      <th>14</th>\n",
       "      <td>2023-04-19 16:35:00</td>\n",
       "      <td>Ramp Meter - Lane 1 Active Rate</td>\n",
       "      <td>411.666667</td>\n",
       "      <td>68</td>\n",
       "      <td>816</td>\n",
       "      <td>47.3</td>\n",
       "      <td>24</td>\n",
       "      <td>288</td>\n",
       "      <td>28</td>\n",
       "      <td>336</td>\n",
       "      <td>...</td>\n",
       "      <td>684</td>\n",
       "      <td>76.638900</td>\n",
       "      <td>38.794631</td>\n",
       "      <td>0.230057</td>\n",
       "      <td>16.652335</td>\n",
       "      <td>54</td>\n",
       "      <td>648</td>\n",
       "      <td>51.092600</td>\n",
       "      <td>38.913462</td>\n",
       "      <td>0.325925</td>\n",
       "    </tr>\n",
       "    <tr>\n",
       "      <th>15</th>\n",
       "      <td>2023-04-19 16:40:00</td>\n",
       "      <td>Ramp Meter - Lane 1 Active Rate</td>\n",
       "      <td>395.000000</td>\n",
       "      <td>73</td>\n",
       "      <td>876</td>\n",
       "      <td>62.1</td>\n",
       "      <td>15</td>\n",
       "      <td>180</td>\n",
       "      <td>26</td>\n",
       "      <td>312</td>\n",
       "      <td>...</td>\n",
       "      <td>720</td>\n",
       "      <td>68.123467</td>\n",
       "      <td>43.864007</td>\n",
       "      <td>0.240950</td>\n",
       "      <td>15.047552</td>\n",
       "      <td>37</td>\n",
       "      <td>444</td>\n",
       "      <td>32.269011</td>\n",
       "      <td>29.506461</td>\n",
       "      <td>0.466316</td>\n",
       "    </tr>\n",
       "    <tr>\n",
       "      <th>16</th>\n",
       "      <td>2023-04-19 16:45:00</td>\n",
       "      <td>Ramp Meter - Lane 1 Active Rate</td>\n",
       "      <td>421.666667</td>\n",
       "      <td>89</td>\n",
       "      <td>1068</td>\n",
       "      <td>33.6</td>\n",
       "      <td>16</td>\n",
       "      <td>192</td>\n",
       "      <td>21</td>\n",
       "      <td>252</td>\n",
       "      <td>...</td>\n",
       "      <td>804</td>\n",
       "      <td>87.587314</td>\n",
       "      <td>40.834474</td>\n",
       "      <td>0.224796</td>\n",
       "      <td>22.113525</td>\n",
       "      <td>51</td>\n",
       "      <td>612</td>\n",
       "      <td>87.587314</td>\n",
       "      <td>27.675370</td>\n",
       "      <td>0.252474</td>\n",
       "    </tr>\n",
       "    <tr>\n",
       "      <th>17</th>\n",
       "      <td>2023-04-19 16:55:00</td>\n",
       "      <td>Ramp Meter - Lane 1 Active Rate</td>\n",
       "      <td>395.000000</td>\n",
       "      <td>83</td>\n",
       "      <td>996</td>\n",
       "      <td>38.1</td>\n",
       "      <td>20</td>\n",
       "      <td>240</td>\n",
       "      <td>27</td>\n",
       "      <td>324</td>\n",
       "      <td>...</td>\n",
       "      <td>588</td>\n",
       "      <td>61.311120</td>\n",
       "      <td>32.177720</td>\n",
       "      <td>0.298046</td>\n",
       "      <td>14.223608</td>\n",
       "      <td>57</td>\n",
       "      <td>684</td>\n",
       "      <td>24.524448</td>\n",
       "      <td>48.089063</td>\n",
       "      <td>0.579977</td>\n",
       "    </tr>\n",
       "    <tr>\n",
       "      <th>18</th>\n",
       "      <td>2023-04-19 17:00:00</td>\n",
       "      <td>Ramp Meter - Lane 1 Active Rate</td>\n",
       "      <td>380.000000</td>\n",
       "      <td>77</td>\n",
       "      <td>924</td>\n",
       "      <td>30.4</td>\n",
       "      <td>17</td>\n",
       "      <td>204</td>\n",
       "      <td>19</td>\n",
       "      <td>228</td>\n",
       "      <td>...</td>\n",
       "      <td>492</td>\n",
       "      <td>76.638900</td>\n",
       "      <td>23.799928</td>\n",
       "      <td>0.269737</td>\n",
       "      <td>14.517984</td>\n",
       "      <td>34</td>\n",
       "      <td>408</td>\n",
       "      <td>26.657009</td>\n",
       "      <td>28.103076</td>\n",
       "      <td>0.544622</td>\n",
       "    </tr>\n",
       "    <tr>\n",
       "      <th>19</th>\n",
       "      <td>2023-04-19 17:05:00</td>\n",
       "      <td>Ramp Meter - Lane 1 Active Rate</td>\n",
       "      <td>398.000000</td>\n",
       "      <td>78</td>\n",
       "      <td>936</td>\n",
       "      <td>74.8</td>\n",
       "      <td>28</td>\n",
       "      <td>336</td>\n",
       "      <td>38</td>\n",
       "      <td>456</td>\n",
       "      <td>...</td>\n",
       "      <td>540</td>\n",
       "      <td>43.793657</td>\n",
       "      <td>25.336733</td>\n",
       "      <td>0.486667</td>\n",
       "      <td>20.271165</td>\n",
       "      <td>36</td>\n",
       "      <td>432</td>\n",
       "      <td>76.638900</td>\n",
       "      <td>21.311059</td>\n",
       "      <td>0.264502</td>\n",
       "    </tr>\n",
       "    <tr>\n",
       "      <th>20</th>\n",
       "      <td>2023-04-19 17:10:00</td>\n",
       "      <td>Ramp Meter - Lane 1 Active Rate</td>\n",
       "      <td>380.000000</td>\n",
       "      <td>65</td>\n",
       "      <td>780</td>\n",
       "      <td>45.2</td>\n",
       "      <td>23</td>\n",
       "      <td>276</td>\n",
       "      <td>29</td>\n",
       "      <td>348</td>\n",
       "      <td>...</td>\n",
       "      <td>552</td>\n",
       "      <td>87.587314</td>\n",
       "      <td>36.295902</td>\n",
       "      <td>0.173636</td>\n",
       "      <td>18.596190</td>\n",
       "      <td>42</td>\n",
       "      <td>504</td>\n",
       "      <td>43.793657</td>\n",
       "      <td>27.102325</td>\n",
       "      <td>0.424632</td>\n",
       "    </tr>\n",
       "    <tr>\n",
       "      <th>21</th>\n",
       "      <td>2023-04-19 17:15:00</td>\n",
       "      <td>Ramp Meter - Lane 1 Active Rate</td>\n",
       "      <td>400.000000</td>\n",
       "      <td>77</td>\n",
       "      <td>924</td>\n",
       "      <td>66.3</td>\n",
       "      <td>17</td>\n",
       "      <td>204</td>\n",
       "      <td>27</td>\n",
       "      <td>324</td>\n",
       "      <td>...</td>\n",
       "      <td>528</td>\n",
       "      <td>76.638900</td>\n",
       "      <td>31.690539</td>\n",
       "      <td>0.217398</td>\n",
       "      <td>15.820371</td>\n",
       "      <td>37</td>\n",
       "      <td>444</td>\n",
       "      <td>61.311120</td>\n",
       "      <td>28.065081</td>\n",
       "      <td>0.258034</td>\n",
       "    </tr>\n",
       "    <tr>\n",
       "      <th>22</th>\n",
       "      <td>2023-04-19 17:20:00</td>\n",
       "      <td>Ramp Meter - Lane 1 Active Rate</td>\n",
       "      <td>392.000000</td>\n",
       "      <td>62</td>\n",
       "      <td>744</td>\n",
       "      <td>62.1</td>\n",
       "      <td>20</td>\n",
       "      <td>240</td>\n",
       "      <td>30</td>\n",
       "      <td>360</td>\n",
       "      <td>...</td>\n",
       "      <td>480</td>\n",
       "      <td>55.737382</td>\n",
       "      <td>30.017043</td>\n",
       "      <td>0.286897</td>\n",
       "      <td>14.253948</td>\n",
       "      <td>33</td>\n",
       "      <td>396</td>\n",
       "      <td>30.655560</td>\n",
       "      <td>27.781776</td>\n",
       "      <td>0.464971</td>\n",
       "    </tr>\n",
       "    <tr>\n",
       "      <th>23</th>\n",
       "      <td>2023-04-19 17:25:00</td>\n",
       "      <td>Ramp Meter - Lane 1 Active Rate</td>\n",
       "      <td>410.000000</td>\n",
       "      <td>64</td>\n",
       "      <td>768</td>\n",
       "      <td>26.3</td>\n",
       "      <td>13</td>\n",
       "      <td>156</td>\n",
       "      <td>21</td>\n",
       "      <td>252</td>\n",
       "      <td>...</td>\n",
       "      <td>648</td>\n",
       "      <td>76.638900</td>\n",
       "      <td>37.070767</td>\n",
       "      <td>0.228084</td>\n",
       "      <td>20.817639</td>\n",
       "      <td>48</td>\n",
       "      <td>576</td>\n",
       "      <td>87.587314</td>\n",
       "      <td>27.668844</td>\n",
       "      <td>0.237679</td>\n",
       "    </tr>\n",
       "    <tr>\n",
       "      <th>24</th>\n",
       "      <td>2023-04-19 17:30:00</td>\n",
       "      <td>Ramp Meter - Lane 1 Active Rate</td>\n",
       "      <td>390.000000</td>\n",
       "      <td>65</td>\n",
       "      <td>780</td>\n",
       "      <td>48.3</td>\n",
       "      <td>21</td>\n",
       "      <td>252</td>\n",
       "      <td>31</td>\n",
       "      <td>372</td>\n",
       "      <td>...</td>\n",
       "      <td>480</td>\n",
       "      <td>32.269011</td>\n",
       "      <td>29.560810</td>\n",
       "      <td>0.503198</td>\n",
       "      <td>19.362859</td>\n",
       "      <td>42</td>\n",
       "      <td>504</td>\n",
       "      <td>68.123467</td>\n",
       "      <td>26.029214</td>\n",
       "      <td>0.284232</td>\n",
       "    </tr>\n",
       "    <tr>\n",
       "      <th>25</th>\n",
       "      <td>2023-04-19 17:35:00</td>\n",
       "      <td>Ramp Meter - Lane 1 Active Rate</td>\n",
       "      <td>395.000000</td>\n",
       "      <td>65</td>\n",
       "      <td>780</td>\n",
       "      <td>93.8</td>\n",
       "      <td>24</td>\n",
       "      <td>288</td>\n",
       "      <td>28</td>\n",
       "      <td>336</td>\n",
       "      <td>...</td>\n",
       "      <td>600</td>\n",
       "      <td>76.638900</td>\n",
       "      <td>37.489840</td>\n",
       "      <td>0.208828</td>\n",
       "      <td>16.401283</td>\n",
       "      <td>38</td>\n",
       "      <td>456</td>\n",
       "      <td>68.123467</td>\n",
       "      <td>27.802703</td>\n",
       "      <td>0.240758</td>\n",
       "    </tr>\n",
       "    <tr>\n",
       "      <th>26</th>\n",
       "      <td>2023-04-19 17:40:00</td>\n",
       "      <td>Ramp Meter - Lane 1 Active Rate</td>\n",
       "      <td>410.000000</td>\n",
       "      <td>81</td>\n",
       "      <td>972</td>\n",
       "      <td>29.4</td>\n",
       "      <td>14</td>\n",
       "      <td>168</td>\n",
       "      <td>15</td>\n",
       "      <td>180</td>\n",
       "      <td>...</td>\n",
       "      <td>708</td>\n",
       "      <td>40.874080</td>\n",
       "      <td>41.623886</td>\n",
       "      <td>0.416143</td>\n",
       "      <td>18.867077</td>\n",
       "      <td>56</td>\n",
       "      <td>672</td>\n",
       "      <td>87.587314</td>\n",
       "      <td>35.617601</td>\n",
       "      <td>0.215409</td>\n",
       "    </tr>\n",
       "  </tbody>\n",
       "</table>\n",
       "<p>27 rows × 46 columns</p>\n",
       "</div>"
      ],
      "text/plain": [
       "             Timestamp                             Type  \\\n",
       "0  2023-04-19 15:15:00  Ramp Meter - Lane 1 Active Rate   \n",
       "1  2023-04-19 15:20:00  Ramp Meter - Lane 1 Active Rate   \n",
       "2  2023-04-19 15:30:00  Ramp Meter - Lane 1 Active Rate   \n",
       "3  2023-04-19 15:35:00  Ramp Meter - Lane 1 Active Rate   \n",
       "4  2023-04-19 15:40:00  Ramp Meter - Lane 1 Active Rate   \n",
       "5  2023-04-19 15:45:00  Ramp Meter - Lane 1 Active Rate   \n",
       "6  2023-04-19 15:50:00  Ramp Meter - Lane 1 Active Rate   \n",
       "7  2023-04-19 15:55:00  Ramp Meter - Lane 1 Active Rate   \n",
       "8  2023-04-19 16:00:00  Ramp Meter - Lane 1 Active Rate   \n",
       "9  2023-04-19 16:05:00  Ramp Meter - Lane 1 Active Rate   \n",
       "10 2023-04-19 16:15:00  Ramp Meter - Lane 1 Active Rate   \n",
       "11 2023-04-19 16:20:00  Ramp Meter - Lane 1 Active Rate   \n",
       "12 2023-04-19 16:25:00  Ramp Meter - Lane 1 Active Rate   \n",
       "13 2023-04-19 16:30:00  Ramp Meter - Lane 1 Active Rate   \n",
       "14 2023-04-19 16:35:00  Ramp Meter - Lane 1 Active Rate   \n",
       "15 2023-04-19 16:40:00  Ramp Meter - Lane 1 Active Rate   \n",
       "16 2023-04-19 16:45:00  Ramp Meter - Lane 1 Active Rate   \n",
       "17 2023-04-19 16:55:00  Ramp Meter - Lane 1 Active Rate   \n",
       "18 2023-04-19 17:00:00  Ramp Meter - Lane 1 Active Rate   \n",
       "19 2023-04-19 17:05:00  Ramp Meter - Lane 1 Active Rate   \n",
       "20 2023-04-19 17:10:00  Ramp Meter - Lane 1 Active Rate   \n",
       "21 2023-04-19 17:15:00  Ramp Meter - Lane 1 Active Rate   \n",
       "22 2023-04-19 17:20:00  Ramp Meter - Lane 1 Active Rate   \n",
       "23 2023-04-19 17:25:00  Ramp Meter - Lane 1 Active Rate   \n",
       "24 2023-04-19 17:30:00  Ramp Meter - Lane 1 Active Rate   \n",
       "25 2023-04-19 17:35:00  Ramp Meter - Lane 1 Active Rate   \n",
       "26 2023-04-19 17:40:00  Ramp Meter - Lane 1 Active Rate   \n",
       "\n",
       "    Aggregate ramp metering rate  Aggregate Mainline num vehicles  \\\n",
       "0                     445.000000                               95   \n",
       "1                     377.500000                               57   \n",
       "2                     427.500000                              104   \n",
       "3                     416.666667                               95   \n",
       "4                     410.000000                               85   \n",
       "5                     390.000000                               75   \n",
       "6                     410.000000                               76   \n",
       "7                     390.000000                               79   \n",
       "8                     400.000000                               83   \n",
       "9                     411.250000                               85   \n",
       "10                    395.000000                               72   \n",
       "11                    418.000000                               84   \n",
       "12                    410.000000                               84   \n",
       "13                    411.250000                               83   \n",
       "14                    411.666667                               68   \n",
       "15                    395.000000                               73   \n",
       "16                    421.666667                               89   \n",
       "17                    395.000000                               83   \n",
       "18                    380.000000                               77   \n",
       "19                    398.000000                               78   \n",
       "20                    380.000000                               65   \n",
       "21                    400.000000                               77   \n",
       "22                    392.000000                               62   \n",
       "23                    410.000000                               64   \n",
       "24                    390.000000                               65   \n",
       "25                    395.000000                               65   \n",
       "26                    410.000000                               81   \n",
       "\n",
       "    Aggregate Mainline flow rate  Green_time  \\\n",
       "0                           1140        49.9   \n",
       "1                            684        65.0   \n",
       "2                           1248        38.9   \n",
       "3                           1140        57.9   \n",
       "4                           1020        40.3   \n",
       "5                            900        47.9   \n",
       "6                            912        60.9   \n",
       "7                            948        56.7   \n",
       "8                            996        57.7   \n",
       "9                           1020        58.8   \n",
       "10                           864        59.9   \n",
       "11                          1008        43.0   \n",
       "12                          1008       100.7   \n",
       "13                           996        42.3   \n",
       "14                           816        47.3   \n",
       "15                           876        62.1   \n",
       "16                          1068        33.6   \n",
       "17                           996        38.1   \n",
       "18                           924        30.4   \n",
       "19                           936        74.8   \n",
       "20                           780        45.2   \n",
       "21                           924        66.3   \n",
       "22                           744        62.1   \n",
       "23                           768        26.3   \n",
       "24                           780        48.3   \n",
       "25                           780        93.8   \n",
       "26                           972        29.4   \n",
       "\n",
       "    Aggregate Ramp Demand num vehicles  Aggregate Ramp Demand flow rate  \\\n",
       "0                                   18                              216   \n",
       "1                                   34                              408   \n",
       "2                                   23                              276   \n",
       "3                                   28                              336   \n",
       "4                                   19                              228   \n",
       "5                                   20                              240   \n",
       "6                                   25                              300   \n",
       "7                                   24                              288   \n",
       "8                                   20                              240   \n",
       "9                                   19                              228   \n",
       "10                                  25                              300   \n",
       "11                                  25                              300   \n",
       "12                                  17                              204   \n",
       "13                                  16                              192   \n",
       "14                                  24                              288   \n",
       "15                                  15                              180   \n",
       "16                                  16                              192   \n",
       "17                                  20                              240   \n",
       "18                                  17                              204   \n",
       "19                                  28                              336   \n",
       "20                                  23                              276   \n",
       "21                                  17                              204   \n",
       "22                                  20                              240   \n",
       "23                                  13                              156   \n",
       "24                                  21                              252   \n",
       "25                                  24                              288   \n",
       "26                                  14                              168   \n",
       "\n",
       "    Aggregate Ramp Passage num vehicles  Aggregate Ramp Passage flow rate  \\\n",
       "0                                    28                               336   \n",
       "1                                    40                               480   \n",
       "2                                    25                               300   \n",
       "3                                    31                               372   \n",
       "4                                    23                               276   \n",
       "5                                    29                               348   \n",
       "6                                    35                               420   \n",
       "7                                    35                               420   \n",
       "8                                    35                               420   \n",
       "9                                    35                               420   \n",
       "10                                   37                               444   \n",
       "11                                   29                               348   \n",
       "12                                   19                               228   \n",
       "13                                   26                               312   \n",
       "14                                   28                               336   \n",
       "15                                   26                               312   \n",
       "16                                   21                               252   \n",
       "17                                   27                               324   \n",
       "18                                   19                               228   \n",
       "19                                   38                               456   \n",
       "20                                   29                               348   \n",
       "21                                   27                               324   \n",
       "22                                   30                               360   \n",
       "23                                   21                               252   \n",
       "24                                   31                               372   \n",
       "25                                   28                               336   \n",
       "26                                   15                               180   \n",
       "\n",
       "    ...  Average Flow Rate Lane 2 DeepSORT  Max Speed Lane 2 DeepSORT  \\\n",
       "0   ...                                876                  51.092600   \n",
       "1   ...                                504                  76.638900   \n",
       "2   ...                                888                  76.638900   \n",
       "3   ...                                852                  55.737382   \n",
       "4   ...                                792                  87.587314   \n",
       "5   ...                                636                  87.587314   \n",
       "6   ...                                648                  76.638900   \n",
       "7   ...                                540                  87.587314   \n",
       "8   ...                                600                  76.638900   \n",
       "9   ...                                708                  87.587314   \n",
       "10  ...                                720                  87.587314   \n",
       "11  ...                                792                  47.162400   \n",
       "12  ...                                720                  43.793657   \n",
       "13  ...                                732                  87.587314   \n",
       "14  ...                                684                  76.638900   \n",
       "15  ...                                720                  68.123467   \n",
       "16  ...                                804                  87.587314   \n",
       "17  ...                                588                  61.311120   \n",
       "18  ...                                492                  76.638900   \n",
       "19  ...                                540                  43.793657   \n",
       "20  ...                                552                  87.587314   \n",
       "21  ...                                528                  76.638900   \n",
       "22  ...                                480                  55.737382   \n",
       "23  ...                                648                  76.638900   \n",
       "24  ...                                480                  32.269011   \n",
       "25  ...                                600                  76.638900   \n",
       "26  ...                                708                  40.874080   \n",
       "\n",
       "    Average Vehicle Density Lane 2 DeepSORT  \\\n",
       "0                                 32.748332   \n",
       "1                                 33.178104   \n",
       "2                                 37.369520   \n",
       "3                                 37.256231   \n",
       "4                                 33.342369   \n",
       "5                                 31.222452   \n",
       "6                                 35.652781   \n",
       "7                                 28.532055   \n",
       "8                                 33.487212   \n",
       "9                                 34.850856   \n",
       "10                                41.894536   \n",
       "11                                38.365457   \n",
       "12                                41.912389   \n",
       "13                                35.371367   \n",
       "14                                38.794631   \n",
       "15                                43.864007   \n",
       "16                                40.834474   \n",
       "17                                32.177720   \n",
       "18                                23.799928   \n",
       "19                                25.336733   \n",
       "20                                36.295902   \n",
       "21                                31.690539   \n",
       "22                                30.017043   \n",
       "23                                37.070767   \n",
       "24                                29.560810   \n",
       "25                                37.489840   \n",
       "26                                41.623886   \n",
       "\n",
       "    Congestion measure Lane 2 DeepSORT  Average Speed Lane 3 DeepSORT  \\\n",
       "0                             0.523548                      30.700508   \n",
       "1                             0.198212                      15.566135   \n",
       "2                             0.310060                      22.953305   \n",
       "3                             0.410293                      23.031611   \n",
       "4                             0.271199                      18.473319   \n",
       "5                             0.232567                      18.121740   \n",
       "6                             0.237155                      14.848676   \n",
       "7                             0.216082                      20.785702   \n",
       "8                             0.233788                      18.525296   \n",
       "9                             0.231942                      16.949713   \n",
       "10                            0.196216                      17.357542   \n",
       "11                            0.437712                      20.728634   \n",
       "12                            0.392264                      17.107748   \n",
       "13                            0.236275                      16.673999   \n",
       "14                            0.230057                      16.652335   \n",
       "15                            0.240950                      15.047552   \n",
       "16                            0.224796                      22.113525   \n",
       "17                            0.298046                      14.223608   \n",
       "18                            0.269737                      14.517984   \n",
       "19                            0.486667                      20.271165   \n",
       "20                            0.173636                      18.596190   \n",
       "21                            0.217398                      15.820371   \n",
       "22                            0.286897                      14.253948   \n",
       "23                            0.228084                      20.817639   \n",
       "24                            0.503198                      19.362859   \n",
       "25                            0.208828                      16.401283   \n",
       "26                            0.416143                      18.867077   \n",
       "\n",
       "    Number of Vehicles Lane 3 DeepSORT  Average Flow Rate Lane 3 DeepSORT  \\\n",
       "0                                   96                               1152   \n",
       "1                                   30                                360   \n",
       "2                                   75                                900   \n",
       "3                                   68                                816   \n",
       "4                                   54                                648   \n",
       "5                                   43                                516   \n",
       "6                                   42                                504   \n",
       "7                                   50                                600   \n",
       "8                                   51                                612   \n",
       "9                                   62                                744   \n",
       "10                                  50                                600   \n",
       "11                                  66                                792   \n",
       "12                                  60                                720   \n",
       "13                                  46                                552   \n",
       "14                                  54                                648   \n",
       "15                                  37                                444   \n",
       "16                                  51                                612   \n",
       "17                                  57                                684   \n",
       "18                                  34                                408   \n",
       "19                                  36                                432   \n",
       "20                                  42                                504   \n",
       "21                                  37                                444   \n",
       "22                                  33                                396   \n",
       "23                                  48                                576   \n",
       "24                                  42                                504   \n",
       "25                                  38                                456   \n",
       "26                                  56                                672   \n",
       "\n",
       "    Max Speed Lane 3 DeepSORT  Average Vehicle Density Lane 3 DeepSORT  \\\n",
       "0                   87.587314                                37.523809   \n",
       "1                   38.319450                                23.127128   \n",
       "2                   61.311120                                39.210039   \n",
       "3                   61.311120                                35.429566   \n",
       "4                   87.587314                                35.077617   \n",
       "5                   76.638900                                28.474088   \n",
       "6                   47.162400                                33.942419   \n",
       "7                   76.638900                                28.865996   \n",
       "8                   76.638900                                33.035910   \n",
       "9                   55.737382                                43.894549   \n",
       "10                  61.311120                                34.567106   \n",
       "11                  43.793657                                38.208018   \n",
       "12                  47.162400                                42.086195   \n",
       "13                  43.793657                                33.105435   \n",
       "14                  51.092600                                38.913462   \n",
       "15                  32.269011                                29.506461   \n",
       "16                  87.587314                                27.675370   \n",
       "17                  24.524448                                48.089063   \n",
       "18                  26.657009                                28.103076   \n",
       "19                  76.638900                                21.311059   \n",
       "20                  43.793657                                27.102325   \n",
       "21                  61.311120                                28.065081   \n",
       "22                  30.655560                                27.781776   \n",
       "23                  87.587314                                27.668844   \n",
       "24                  68.123467                                26.029214   \n",
       "25                  68.123467                                27.802703   \n",
       "26                  87.587314                                35.617601   \n",
       "\n",
       "    Congestion measure Lane 3 DeepSORT  \n",
       "0                             0.350513  \n",
       "1                             0.406220  \n",
       "2                             0.374374  \n",
       "3                             0.375651  \n",
       "4                             0.210913  \n",
       "5                             0.236456  \n",
       "6                             0.314841  \n",
       "7                             0.271216  \n",
       "8                             0.241722  \n",
       "9                             0.304100  \n",
       "10                            0.283106  \n",
       "11                            0.473325  \n",
       "12                            0.362741  \n",
       "13                            0.380740  \n",
       "14                            0.325925  \n",
       "15                            0.466316  \n",
       "16                            0.252474  \n",
       "17                            0.579977  \n",
       "18                            0.544622  \n",
       "19                            0.264502  \n",
       "20                            0.424632  \n",
       "21                            0.258034  \n",
       "22                            0.464971  \n",
       "23                            0.237679  \n",
       "24                            0.284232  \n",
       "25                            0.240758  \n",
       "26                            0.215409  \n",
       "\n",
       "[27 rows x 46 columns]"
      ]
     },
     "execution_count": 8,
     "metadata": {},
     "output_type": "execute_result"
    }
   ],
   "source": [
    "df = pd.read_excel('101 Cypress Analysis Results Latest.xlsx', engine='openpyxl')\n",
    "df"
   ]
  },
  {
   "cell_type": "code",
   "execution_count": 3,
   "id": "06a3b965",
   "metadata": {},
   "outputs": [
    {
     "data": {
      "text/plain": [
       "Index(['Timestamp', 'Type', 'Aggregate ramp metering rate',\n",
       "       'Aggregate Mainline num vehicles', 'Aggregate Mainline flow rate',\n",
       "       'Green_time', 'Aggregate Ramp Demand num vehicles',\n",
       "       'Aggregate Ramp Demand flow rate',\n",
       "       'Aggregate Ramp Passage num vehicles',\n",
       "       'Aggregate Ramp Passage flow rate', 'Average Speed Lane 1',\n",
       "       'Average Flow Lane 1', 'Average Occupancy Lane 1', 'Max Speed Lane 1',\n",
       "       'Average Flow Rate Lane 1', 'Congestion measure Lane 1',\n",
       "       'Average Speed Lane 2', 'Average Flow Lane 2',\n",
       "       'Average Occupancy Lane 2', 'Max Speed Lane 2',\n",
       "       'Average Flow Rate Lane 2', 'Congestion measure Lane 2',\n",
       "       'Average Speed Lane 3', 'Average Flow Lane 3',\n",
       "       'Average Occupancy Lane 3', 'Max Speed Lane 3',\n",
       "       'Average Flow Rate Lane 3', 'Congestion measure Lane 3',\n",
       "       'Average Speed Lane 1 DeepSORT', 'Number of Vehicles Lane 1 DeepSORT',\n",
       "       'Average Flow Rate Lane 1 DeepSORT', 'Max Speed Lane 1 DeepSORT',\n",
       "       'Average Vehicle Density Lane 1 DeepSORT',\n",
       "       'Congestion measure Lane 1 DeepSORT', 'Average Speed Lane 2 DeepSORT',\n",
       "       'Number of Vehicles Lane 2 DeepSORT',\n",
       "       'Average Flow Rate Lane 2 DeepSORT', 'Max Speed Lane 2 DeepSORT',\n",
       "       'Average Vehicle Density Lane 2 DeepSORT',\n",
       "       'Congestion measure Lane 2 DeepSORT', 'Average Speed Lane 3 DeepSORT',\n",
       "       'Number of Vehicles Lane 3 DeepSORT',\n",
       "       'Average Flow Rate Lane 3 DeepSORT', 'Max Speed Lane 3 DeepSORT',\n",
       "       'Average Vehicle Density Lane 3 DeepSORT',\n",
       "       'Congestion measure Lane 3 DeepSORT'],\n",
       "      dtype='object')"
      ]
     },
     "execution_count": 3,
     "metadata": {},
     "output_type": "execute_result"
    }
   ],
   "source": [
    "df.columns"
   ]
  },
  {
   "cell_type": "code",
   "execution_count": 6,
   "id": "ec36a3fa",
   "metadata": {},
   "outputs": [],
   "source": [
    "import os\n",
    "import pandas as pd\n",
    "import matplotlib.pyplot as plt\n",
    "\n",
    "directory = 'high/'\n",
    "\n",
    "for filename in os.listdir(directory):\n",
    "    if filename.endswith('.xlsx'):\n",
    "        file_path = os.path.join(directory, filename)\n",
    "        print(file_path)\n",
    "        df = pd.read_excel(file_path, engine='openpyxl')\n",
    "        plot_helper(df, file_path)\n",
    "        "
   ]
  },
  {
   "cell_type": "code",
   "execution_count": 4,
   "id": "7b920c80",
   "metadata": {},
   "outputs": [],
   "source": [
    "def plot_helper_trend(df, file_path):\n",
    "    # Create a figure and subplots\n",
    "    fig, axs = plt.subplots(9, 1, figsize=(15, 17))\n",
    "\n",
    "    axs[8].step(df['Timestamp'], df['Aggregate Ramp Passage flow rate'], color = 'red', where='post')\n",
    "    axs[8].set_title('Aggregate Ramp Passage flow rate')\n",
    "    axs[8].set_xlim(df['Timestamp'].min(), df['Timestamp'].max())\n",
    "    # axs[6].set_ylim(df['Aggregate Ramp Passage flow rate'].min(), df['Aggregate Ramp Passage flow rate'].max())\n",
    "    axs[8].tick_params(axis='x', rotation=45)\n",
    "\n",
    "    # min_value1 = df['Aggregate Ramp Passage flow rate'].min()\n",
    "    # max_value1 = df['Aggregate Ramp Passage flow rate'].max()\n",
    "    # ticks1 = np.linspace(min_value1, max_value1, num=5)\n",
    "    # axs[6].set_ylim(min_value1, max_value1)\n",
    "    # axs[6].set_yticks(ticks1)\n",
    "\n",
    "    axs[8].xaxis.set_major_locator(mdates.MinuteLocator(interval=5))\n",
    "    axs[8].xaxis.set_major_formatter(mdates.DateFormatter('%H:%M'))\n",
    "    #############################################################################\n",
    "\n",
    "\n",
    "    axs[7].step(df['Timestamp'], df['Aggregate Ramp Demand flow rate'], color = 'blue', where='post')\n",
    "    axs[7].set_title('Aggregate Ramp Demand flow rate')\n",
    "    axs[7].set_xlim(df['Timestamp'].min(), df['Timestamp'].max())\n",
    "    # axs[7].set_ylim(df['Aggregate Ramp Demand flow rate'].min(), df['Aggregate Ramp Demand flow rate'].max())\n",
    "    axs[7].tick_params(axis='x', rotation=45)\n",
    "\n",
    "    # min_value1 = df['Aggregate Ramp Demand flow rate'].min()\n",
    "    # max_value1 = df['Aggregate Ramp Demand flow rate'].max()\n",
    "    # ticks1 = np.linspace(min_value1, max_value1, num=5)\n",
    "    # axs[7].set_ylim(min_value1, max_value1)\n",
    "    # axs[7].set_yticks(ticks1)\n",
    "\n",
    "    axs[7].xaxis.set_major_locator(mdates.MinuteLocator(interval=5))\n",
    "    axs[7].xaxis.set_major_formatter(mdates.DateFormatter('%H:%M'))\n",
    "    #############################################################################\n",
    "    highlight_regions = [(\"2023-04-19 15:50:00\", \"2023-04-19 16:00:00\"), (\"2023-04-20 16:25:00\", \"2023-04-21 16:40:00\"), (\"2023-04-20 16:55:00\", \"2023-04-21 17:10:00\")]\n",
    "\n",
    "    highlight_regions = [(datetime.strptime(start, \"%Y-%m-%d %H:%M:%S\"), datetime.strptime(end, \"%Y-%m-%d %H:%M:%S\")) \n",
    "                         for start, end in highlight_regions]\n",
    "    #############################################################################\n",
    "\n",
    "\n",
    "    axs[6].step(df['Timestamp'], df['Aggregate ramp metering rate'], color = 'orange', where='post')\n",
    "    axs[6].set_title('Aggregate ramp metering rate')\n",
    "    axs[6].set_xlim(df['Timestamp'].min(), df['Timestamp'].max())\n",
    "    # axs[4].set_ylim(df['Aggregate ramp metering rate'].min(), df['Aggregate ramp metering rate'].max())\n",
    "    axs[6].tick_params(axis='x', rotation=45)\n",
    "\n",
    "    # min_value1 = df['Aggregate ramp metering rate'].min()\n",
    "    # max_value1 = df['Aggregate ramp metering rate'].max()\n",
    "    # ticks1 = np.linspace(min_value1, max_value1, num=5)\n",
    "    # axs[4].set_ylim(min_value1, max_value1)\n",
    "    # axs[4].set_yticks(ticks1)\n",
    "        \n",
    "    for region in highlight_regions:\n",
    "        highlight_start, highlight_end = region\n",
    "        axs[6].axvspan(highlight_start, highlight_end, alpha=0.3, color='yellow')\n",
    "\n",
    "    axs[6].xaxis.set_major_locator(mdates.MinuteLocator(interval=5))\n",
    "    axs[6].xaxis.set_major_formatter(mdates.DateFormatter('%H:%M'))\n",
    "    \n",
    "    \n",
    "    \n",
    "    #############################################################################\n",
    "\n",
    "    axs[5].step(df['Timestamp'], df['Congestion measure Lane 1'], color = 'green', where='post')\n",
    "    axs[5].set_title('Inverse Congestion measure Lane 1 Microwave')\n",
    "    axs[5].set_xlim(df['Timestamp'].min(), df['Timestamp'].max())\n",
    "    # axs[2].set_ylim(df['Congestion measure Lane 1'].min(), df['Congestion measure Lane 1'].max())\n",
    "    axs[5].tick_params(axis='x', rotation=45)\n",
    "\n",
    "    # min_value1 = df['Congestion measure Lane 1'].min()\n",
    "    # max_value1 = df['Congestion measure Lane 1'].max()\n",
    "    # ticks1 = np.linspace(min_value1, max_value1, num=5)\n",
    "    # axs[2].set_ylim(min_value1, max_value1)\n",
    "    # axs[2].set_yticks(ticks1)\n",
    "    \n",
    "    for region in highlight_regions:\n",
    "        print(region)\n",
    "        highlight_start, highlight_end = region\n",
    "        axs[5].axvspan(highlight_start, highlight_end, alpha=0.3, color='yellow')\n",
    "    \n",
    "    axs[5].xaxis.set_major_locator(mdates.MinuteLocator(interval=5))\n",
    "    axs[5].xaxis.set_major_formatter(mdates.DateFormatter('%H:%M'))\n",
    "\n",
    "    #############################################################################\n",
    "\n",
    "    axs[4].step(df['Timestamp'], df['Congestion measure Lane 1 DeepSORT'], color = 'salmon', where='post')\n",
    "    axs[4].set_title('Inverse Congestion measure Lane 1 DeepSORT')\n",
    "    axs[4].set_xlim(df['Timestamp'].min(), df['Timestamp'].max())\n",
    "    # axs[0].set_ylim(df['Congestion measure Lane 1 DeepSORT'].min(), df['Average Vehicle Density Lane 1 DeepSORT'].max())\n",
    "    axs[4].tick_params(axis='x', rotation=45)\n",
    "\n",
    "    # min_value1 = df['Average Vehicle Density Lane 1 DeepSORT'].min()\n",
    "    # max_value1 = df['Average Vehicle Density Lane 1 DeepSORT'].max()\n",
    "    # ticks1 = np.linspace(min_value1, max_value1, num=5)\n",
    "    # axs[0].set_ylim(min_value1, max_value1)\n",
    "    # axs[0].set_yticks(ticks1)\n",
    "\n",
    "    axs[4].xaxis.set_major_locator(mdates.MinuteLocator(interval=5))\n",
    "    axs[4].xaxis.set_major_formatter(mdates.DateFormatter('%H:%M'))\n",
    "\n",
    "    #############################################################################\n",
    "\n",
    "    axs[3].step(df['Timestamp'], df['Average Speed Lane 1'], color = 'black', where='post')\n",
    "    axs[3].set_title('Average Speed Lane 1 Microwave')\n",
    "    axs[3].set_xlim(df['Timestamp'].min(), df['Timestamp'].max())\n",
    "    # axs[3].set_ylim(df['Average Speed Lane 1'].min(), df['Average Speed Lane 1'].max())\n",
    "    axs[3].tick_params(axis='x', rotation=45)\n",
    "\n",
    "    # min_value1 = df['Average Speed Lane 1'].min()\n",
    "    # max_value1 = df['Average Speed Lane 1'].max()\n",
    "    # ticks1 = np.linspace(min_value1, max_value1, num=5)\n",
    "    # axs[3].set_ylim(min_value1, max_value1)\n",
    "    # axs[3].set_yticks(ticks1)\n",
    "\n",
    "    for region in highlight_regions:\n",
    "        highlight_start, highlight_end = region\n",
    "        axs[3].axvspan(highlight_start, highlight_end, alpha=0.3, color='yellow')\n",
    "\n",
    "    \n",
    "    axs[3].xaxis.set_major_locator(mdates.MinuteLocator(interval=5))\n",
    "    axs[3].xaxis.set_major_formatter(mdates.DateFormatter('%H:%M'))\n",
    "\n",
    "\n",
    "\n",
    "    #############################################################################\n",
    "\n",
    "    axs[2].step(df['Timestamp'], df['Average Speed Lane 1 DeepSORT'], color = 'saddlebrown', where='post')\n",
    "    axs[2].set_title('Average Speed Lane 1 DeepSORT')\n",
    "    axs[2].set_xlim(df['Timestamp'].min(), df['Timestamp'].max())\n",
    "    # axs[1].set_ylim(df['Average Speed Lane 1 DeepSORT'].min(), df['Average Speed Lane 1 DeepSORT'].max())\n",
    "    axs[2].tick_params(axis='x', rotation=45)\n",
    "\n",
    "    # min_value1 = df['Average Speed Lane 1 DeepSORT'].min()\n",
    "    # max_value1 = df['Average Speed Lane 1 DeepSORT'].max()\n",
    "    # ticks1 = np.linspace(min_value1, max_value1, num=5)\n",
    "    # axs[1].set_ylim(min_value1, max_value1)\n",
    "    # axs[1].set_yticks(ticks1)\n",
    "\n",
    "    axs[2].xaxis.set_major_locator(mdates.MinuteLocator(interval=5))\n",
    "    axs[2].xaxis.set_major_formatter(mdates.DateFormatter('%H:%M'))\n",
    "\n",
    "\n",
    "    #############################################################################\n",
    "\n",
    "    axs[1].step(df['Timestamp'], df['Average Occupancy Lane 1'], color = 'darkcyan', where='post')\n",
    "    axs[1].set_title('Average Occupancy Lane 1 Microwave')\n",
    "    axs[1].set_xlim(df['Timestamp'].min(), df['Timestamp'].max())\n",
    "    # axs[0].set_ylim(df['Congestion measure Lane 1 DeepSORT'].min(), df['Average Vehicle Density Lane 1 DeepSORT'].max())\n",
    "    axs[1].tick_params(axis='x', rotation=45)\n",
    "\n",
    "    # min_value1 = df['Average Vehicle Density Lane 1 DeepSORT'].min()\n",
    "    # max_value1 = df['Average Vehicle Density Lane 1 DeepSORT'].max()\n",
    "    # ticks1 = np.linspace(min_value1, max_value1, num=5)\n",
    "    # axs[0].set_ylim(min_value1, max_value1)\n",
    "    # axs[0].set_yticks(ticks1)\n",
    "\n",
    "    axs[1].xaxis.set_major_locator(mdates.MinuteLocator(interval=5))\n",
    "    axs[1].xaxis.set_major_formatter(mdates.DateFormatter('%H:%M'))\n",
    "\n",
    "    #############################################################################\n",
    "\n",
    "\n",
    "    axs[0].step(df['Timestamp'], df['Average Vehicle Density Lane 1 DeepSORT'], color = 'violet', where='post')\n",
    "    axs[0].set_title('Average Vehicle Density Lane 1 DeepSORT')\n",
    "    axs[0].set_xlim(df['Timestamp'].min(), df['Timestamp'].max())\n",
    "    # axs[0].set_ylim(df['Congestion measure Lane 1 DeepSORT'].min(), df['Average Vehicle Density Lane 1 DeepSORT'].max())\n",
    "    axs[0].tick_params(axis='x', rotation=45)\n",
    "\n",
    "    # min_value1 = df['Average Vehicle Density Lane 1 DeepSORT'].min()\n",
    "    # max_value1 = df['Average Vehicle Density Lane 1 DeepSORT'].max()\n",
    "    # ticks1 = np.linspace(min_value1, max_value1, num=5)\n",
    "    # axs[0].set_ylim(min_value1, max_value1)\n",
    "    # axs[0].set_yticks(ticks1)\n",
    "\n",
    "    axs[0].xaxis.set_major_locator(mdates.MinuteLocator(interval=5))\n",
    "    axs[0].xaxis.set_major_formatter(mdates.DateFormatter('%H:%M'))\n",
    "    #############################################################################\n",
    "\n",
    "    # Adjust the spacing between subplots\n",
    "    plt.tight_layout()\n",
    "    plt.savefig(file_path.split(\".\")[0] + '.png')\n",
    "    plt.clf()\n",
    "    \n",
    "    plt.close('all')\n",
    "    plt.figure(figsize=(7, 7))\n",
    "\n",
    "    \n",
    "    highlight_regions = [(375, 383), (388, 396), (407, 413)]\n",
    "    \n",
    "\n",
    "    \n",
    "    #Ramp Metering Rate vs Average Speed\n",
    "    plt.scatter(df['Aggregate ramp metering rate'], df['Average Speed Lane 1'], color = 'orange')\n",
    "    plt.xlabel('Aggregate ramp metering rate')\n",
    "    plt.ylabel('Average Speed Lane 1 Microwave')\n",
    "    plt.title('Average Speed Lane 1 Microwave vs Aggregate ramp metering rate')\n",
    "    \n",
    "    slope, intercept = np.polyfit(df['Aggregate ramp metering rate'], df['Average Speed Lane 1'], 1)\n",
    "    trend_line = slope * df['Aggregate ramp metering rate'] + intercept\n",
    "    plt.plot(df['Aggregate ramp metering rate'], trend_line, color='red', label='Trend Line', linestyle='solid')\n",
    "    \n",
    "    highlight_indices = [18, 22, 17, 4, 23, 6, 14]\n",
    "    \n",
    "    for i, index in enumerate(highlight_indices):\n",
    "        plt.scatter(df.loc[index]['Aggregate ramp metering rate'], df.loc[index]['Average Speed Lane 1'], color = 'crimson')\n",
    "        hours_minutes = df.loc[index]['Timestamp'].strftime(\"%H:%M\")\n",
    "        plt.annotate(f\"{hours_minutes}\", xy=(df.loc[index]['Aggregate ramp metering rate'], df.loc[index]['Average Speed Lane 1']), xytext=(2, -5),\n",
    "                     textcoords='offset points', ha='left', va='bottom')\n",
    "    \n",
    "    for region in highlight_regions:\n",
    "        highlight_start, highlight_end = region\n",
    "        plt.axvspan(highlight_start, highlight_end, alpha=0.3, color='skyblue')\n",
    "        \n",
    "    plt.legend()\n",
    "    plt.savefig(file_path.split(\".\")[0] + '_Ramp Metering Rate vs Average Speed.png')\n",
    "    plt.clf()\n",
    "    \n",
    "    #Ramp Metering Rate vs Lane 1 Flow Rate\n",
    "    plt.scatter(df['Aggregate ramp metering rate'], df['Average Flow Rate Lane 1'], color = 'blue')\n",
    "    plt.xlabel('Aggregate ramp metering rate')\n",
    "    plt.ylabel('Average Flow Rate Lane 1 Microwave')\n",
    "    plt.title('Average Flow Rate Lane 1 Microwave vs Aggregate ramp metering rate')\n",
    "    plt.savefig(file_path.split(\".\")[0] + '_Ramp Metering Rate vs Lane 1 Flow Rate.png')\n",
    "    plt.clf()\n",
    "    \n",
    "    #Ramp Metering Rate vs Congestion metric\n",
    "    plt.scatter(df['Aggregate ramp metering rate'], df['Congestion measure Lane 1'], color = 'green')\n",
    "    plt.xlabel('Aggregate ramp metering rate')\n",
    "    plt.ylabel('Inverse Congestion measure Lane 1 Microwave')\n",
    "    plt.title('Inverse Congestion measure Lane 1 Microwave vs Aggregate ramp metering rate')\n",
    "    plt.savefig(file_path.split(\".\")[0] + '_Ramp Metering Rate vs Congestion metric.png')\n",
    "    plt.clf()\n",
    "    \n",
    "#     #Ramp Metering Rate vs Ramp Demand\n",
    "#     plt.scatter(df['Aggregate ramp metering rate'], df['Aggregate Ramp Demand flow rate'], color = 'black')\n",
    "#     plt.xlabel('Aggregate ramp metering rate')\n",
    "#     plt.ylabel('Aggregate Ramp Demand flow rate')\n",
    "#     plt.title('Aggregate Ramp Demand flow rate vs Aggregate ramp metering rate')\n",
    "#     plt.savefig(file_path.split(\".\")[0] + '_Ramp Metering Rate vs Ramp Demand.png')\n",
    "#     plt.clf()\n",
    "    \n",
    "    highlight_regions = [(375, 383), (390, 399), (407, 413)]\n",
    "    \n",
    "\n",
    "    \n",
    "    #Ramp Metering Rate vs Ramp Demand\n",
    "    plt.scatter(df['Aggregate ramp metering rate'], df['Aggregate Ramp Demand flow rate'], color = 'black')\n",
    "    plt.xlabel('Aggregate ramp metering rate')\n",
    "    plt.ylabel('Aggregate Ramp Demand flow rate')\n",
    "    plt.title('Aggregate Ramp Demand flow rate vs Aggregate ramp metering rate')\n",
    "    \n",
    "    slope, intercept = np.polyfit(df['Aggregate ramp metering rate'], df['Aggregate Ramp Demand flow rate'], 1)\n",
    "    trend_line = slope * df['Aggregate ramp metering rate'] + intercept\n",
    "    plt.plot(df['Aggregate ramp metering rate'], trend_line, color='red', label='Trend Line', linestyle='solid')\n",
    "    \n",
    "    highlight_indices = [1, 18, 15, 19, 23, 6]\n",
    "    \n",
    "    for i, index in enumerate(highlight_indices):\n",
    "        plt.scatter(df.loc[index]['Aggregate ramp metering rate'], df.loc[index]['Aggregate Ramp Demand flow rate'], color = 'crimson')\n",
    "        hours_minutes = df.loc[index]['Timestamp'].strftime(\"%H:%M\")\n",
    "        plt.annotate(f\"{hours_minutes}\", xy=(df.loc[index]['Aggregate ramp metering rate'], df.loc[index]['Aggregate Ramp Demand flow rate']), xytext=(2, -5),\n",
    "                     textcoords='offset points', ha='left', va='bottom')\n",
    "    \n",
    "    for region in highlight_regions:\n",
    "        highlight_start, highlight_end = region\n",
    "        plt.axvspan(highlight_start, highlight_end, alpha=0.3, color='skyblue')\n",
    "        \n",
    "    plt.legend()\n",
    "    plt.savefig(file_path.split(\".\")[0] + '_Ramp Metering Rate vs Ramp Demand.png')\n",
    "    plt.clf()\n",
    "    \n",
    "    \n",
    "    #Ramp Demand vs Ramp Passage\n",
    "    plt.scatter(df['Aggregate Ramp Demand flow rate'], df['Aggregate Ramp Passage flow rate'], color = 'darkcyan')\n",
    "    plt.xlabel('Aggregate Ramp Demand flow rate')\n",
    "    plt.ylabel('Aggregate Ramp Passage flow rate')\n",
    "    plt.title('Aggregate Ramp Passage flow rate vs Aggregate ramp metering rate')\n",
    "    plt.savefig(file_path.split(\".\")[0] + '_Ramp Demand vs Ramp Passage.png')\n",
    "    plt.clf()\n",
    "    \n",
    "    \n",
    "    \n",
    "\n",
    "    highlight_regions = [(375, 383), (388, 396), (407, 413)]\n",
    "    \n",
    "\n",
    "    \n",
    "    #Ramp Metering Rate vs Average Occupancy\n",
    "    plt.scatter(df['Aggregate ramp metering rate'], df['Average Occupancy Lane 1'], color = 'violet')\n",
    "    plt.xlabel('Aggregate ramp metering rate')\n",
    "    plt.ylabel('Average Occupancy Lane 1 Microwave')\n",
    "    plt.title('Average Occupancy Lane 1 Microwave vs Aggregate ramp metering rate')\n",
    "    \n",
    "    slope, intercept = np.polyfit(df['Aggregate ramp metering rate'], df['Average Occupancy Lane 1'], 1)\n",
    "    trend_line = slope * df['Aggregate ramp metering rate'] + intercept\n",
    "    plt.plot(df['Aggregate ramp metering rate'], trend_line, color='red', label='Trend Line', linestyle='solid')\n",
    "    \n",
    "    highlight_indices = [1, 18, 22, 17, 10, 4, 23, 14, 26]\n",
    "    \n",
    "    for i, index in enumerate(highlight_indices):\n",
    "        plt.scatter(df.loc[index]['Aggregate ramp metering rate'], df.loc[index]['Average Occupancy Lane 1'], color = 'crimson')\n",
    "        hours_minutes = df.loc[index]['Timestamp'].strftime(\"%H:%M\")\n",
    "        plt.annotate(f\"{hours_minutes}\", xy=(df.loc[index]['Aggregate ramp metering rate'], df.loc[index]['Average Occupancy Lane 1']), xytext=(2, -5),\n",
    "                     textcoords='offset points', ha='left', va='bottom')\n",
    "    \n",
    "    for region in highlight_regions:\n",
    "        highlight_start, highlight_end = region\n",
    "        plt.axvspan(highlight_start, highlight_end, alpha=0.3, color='skyblue')\n",
    "        \n",
    "    plt.legend()\n",
    "    plt.savefig(file_path.split(\".\")[0] + '_Ramp Metering Rate vs Average Occupancy.png')\n",
    "#     plt.clf()\n",
    "    \n",
    "#     Show the plot\n",
    "    plt.show()"
   ]
  },
  {
   "cell_type": "code",
   "execution_count": null,
   "id": "b595e6ca",
   "metadata": {},
   "outputs": [],
   "source": []
  },
  {
   "cell_type": "code",
   "execution_count": null,
   "id": "18bebfe6",
   "metadata": {},
   "outputs": [],
   "source": []
  },
  {
   "cell_type": "code",
   "execution_count": null,
   "id": "7e2c30a0",
   "metadata": {},
   "outputs": [],
   "source": []
  },
  {
   "cell_type": "code",
   "execution_count": null,
   "id": "4addd66d",
   "metadata": {},
   "outputs": [],
   "source": []
  },
  {
   "cell_type": "code",
   "execution_count": null,
   "id": "0c11eaa8",
   "metadata": {},
   "outputs": [],
   "source": []
  },
  {
   "cell_type": "code",
   "execution_count": null,
   "id": "6b76d3a0",
   "metadata": {},
   "outputs": [],
   "source": []
  },
  {
   "cell_type": "code",
   "execution_count": null,
   "id": "6a5c729e",
   "metadata": {},
   "outputs": [],
   "source": []
  },
  {
   "cell_type": "code",
   "execution_count": null,
   "id": "7b2c8efd",
   "metadata": {},
   "outputs": [],
   "source": []
  },
  {
   "cell_type": "code",
   "execution_count": null,
   "id": "60c07aac",
   "metadata": {},
   "outputs": [],
   "source": []
  },
  {
   "cell_type": "code",
   "execution_count": 5,
   "id": "d29d7173",
   "metadata": {},
   "outputs": [],
   "source": [
    "def plot_helper(df, file_path):\n",
    "    # Create a figure and subplots\n",
    "    fig, axs = plt.subplots(9, 1, figsize=(15, 17))\n",
    "    print(df['Timestamp'])\n",
    "\n",
    "\n",
    "    axs[8].step(df['Timestamp'], df['Aggregate Ramp Passage flow rate'], color = 'red', where='post')\n",
    "    axs[8].set_title('Aggregate Ramp Passage flow rate')\n",
    "    axs[8].set_xlim(df['Timestamp'].min(), df['Timestamp'].max())\n",
    "    # axs[6].set_ylim(df['Aggregate Ramp Passage flow rate'].min(), df['Aggregate Ramp Passage flow rate'].max())\n",
    "    axs[8].tick_params(axis='x', rotation=45)\n",
    "\n",
    "    # min_value1 = df['Aggregate Ramp Passage flow rate'].min()\n",
    "    # max_value1 = df['Aggregate Ramp Passage flow rate'].max()\n",
    "    # ticks1 = np.linspace(min_value1, max_value1, num=5)\n",
    "    # axs[6].set_ylim(min_value1, max_value1)\n",
    "    # axs[6].set_yticks(ticks1)\n",
    "\n",
    "    axs[8].xaxis.set_major_locator(mdates.MinuteLocator(interval=5))\n",
    "    axs[8].xaxis.set_major_formatter(mdates.DateFormatter('%H:%M'))\n",
    "    #############################################################################\n",
    "\n",
    "\n",
    "    axs[7].step(df['Timestamp'], df['Aggregate Ramp Demand flow rate'], color = 'blue', where='post')\n",
    "    axs[7].set_title('Aggregate Ramp Demand flow rate')\n",
    "    axs[7].set_xlim(df['Timestamp'].min(), df['Timestamp'].max())\n",
    "    # axs[7].set_ylim(df['Aggregate Ramp Demand flow rate'].min(), df['Aggregate Ramp Demand flow rate'].max())\n",
    "    axs[7].tick_params(axis='x', rotation=45)\n",
    "\n",
    "    # min_value1 = df['Aggregate Ramp Demand flow rate'].min()\n",
    "    # max_value1 = df['Aggregate Ramp Demand flow rate'].max()\n",
    "    # ticks1 = np.linspace(min_value1, max_value1, num=5)\n",
    "    # axs[7].set_ylim(min_value1, max_value1)\n",
    "    # axs[7].set_yticks(ticks1)\n",
    "\n",
    "    axs[7].xaxis.set_major_locator(mdates.MinuteLocator(interval=5))\n",
    "    axs[7].xaxis.set_major_formatter(mdates.DateFormatter('%H:%M'))\n",
    "    #############################################################################\n",
    "    highlight_regions = [(\"2023-04-19 15:50:00\", \"2023-04-19 16:00:00\"), (\"2023-04-20 16:25:00\", \"2023-04-21 16:40:00\"), (\"2023-04-20 16:55:00\", \"2023-04-21 17:10:00\")]\n",
    "\n",
    "    highlight_regions = [(datetime.strptime(start, \"%Y-%m-%d %H:%M:%S\"), datetime.strptime(end, \"%Y-%m-%d %H:%M:%S\")) \n",
    "                         for start, end in highlight_regions]\n",
    "    #############################################################################\n",
    "\n",
    "\n",
    "    axs[6].step(df['Timestamp'], df['Aggregate ramp metering rate'], color = 'orange', where='post')\n",
    "    axs[6].set_title('Aggregate ramp metering rate')\n",
    "    axs[6].set_xlim(df['Timestamp'].min(), df['Timestamp'].max())\n",
    "    # axs[4].set_ylim(df['Aggregate ramp metering rate'].min(), df['Aggregate ramp metering rate'].max())\n",
    "    axs[6].tick_params(axis='x', rotation=45)\n",
    "\n",
    "    # min_value1 = df['Aggregate ramp metering rate'].min()\n",
    "    # max_value1 = df['Aggregate ramp metering rate'].max()\n",
    "    # ticks1 = np.linspace(min_value1, max_value1, num=5)\n",
    "    # axs[4].set_ylim(min_value1, max_value1)\n",
    "    # axs[4].set_yticks(ticks1)\n",
    "        \n",
    "    for region in highlight_regions:\n",
    "        highlight_start, highlight_end = region\n",
    "        axs[6].axvspan(highlight_start, highlight_end, alpha=0.3, color='yellow')\n",
    "\n",
    "    axs[6].xaxis.set_major_locator(mdates.MinuteLocator(interval=5))\n",
    "    axs[6].xaxis.set_major_formatter(mdates.DateFormatter('%H:%M'))\n",
    "    \n",
    "    \n",
    "    \n",
    "    #############################################################################\n",
    "\n",
    "    axs[5].step(df['Timestamp'], df['Congestion measure Lane 1'], color = 'green', where='post')\n",
    "    axs[5].set_title('Inverse Congestion measure Lane 1 Microwave')\n",
    "    axs[5].set_xlim(df['Timestamp'].min(), df['Timestamp'].max())\n",
    "    # axs[2].set_ylim(df['Congestion measure Lane 1'].min(), df['Congestion measure Lane 1'].max())\n",
    "    axs[5].tick_params(axis='x', rotation=45)\n",
    "\n",
    "    # min_value1 = df['Congestion measure Lane 1'].min()\n",
    "    # max_value1 = df['Congestion measure Lane 1'].max()\n",
    "    # ticks1 = np.linspace(min_value1, max_value1, num=5)\n",
    "    # axs[2].set_ylim(min_value1, max_value1)\n",
    "    # axs[2].set_yticks(ticks1)\n",
    "    \n",
    "    for region in highlight_regions:\n",
    "        print(region)\n",
    "        highlight_start, highlight_end = region\n",
    "        axs[5].axvspan(highlight_start, highlight_end, alpha=0.3, color='yellow')\n",
    "    \n",
    "    axs[5].xaxis.set_major_locator(mdates.MinuteLocator(interval=5))\n",
    "    axs[5].xaxis.set_major_formatter(mdates.DateFormatter('%H:%M'))\n",
    "\n",
    "    #############################################################################\n",
    "\n",
    "    axs[4].step(df['Timestamp'], df['Congestion measure Lane 1 DeepSORT'], color = 'salmon', where='post')\n",
    "    axs[4].set_title('Inverse Congestion measure Lane 1 DeepSORT')\n",
    "    axs[4].set_xlim(df['Timestamp'].min(), df['Timestamp'].max())\n",
    "    # axs[0].set_ylim(df['Congestion measure Lane 1 DeepSORT'].min(), df['Average Vehicle Density Lane 1 DeepSORT'].max())\n",
    "    axs[4].tick_params(axis='x', rotation=45)\n",
    "\n",
    "    # min_value1 = df['Average Vehicle Density Lane 1 DeepSORT'].min()\n",
    "    # max_value1 = df['Average Vehicle Density Lane 1 DeepSORT'].max()\n",
    "    # ticks1 = np.linspace(min_value1, max_value1, num=5)\n",
    "    # axs[0].set_ylim(min_value1, max_value1)\n",
    "    # axs[0].set_yticks(ticks1)\n",
    "\n",
    "    axs[4].xaxis.set_major_locator(mdates.MinuteLocator(interval=5))\n",
    "    axs[4].xaxis.set_major_formatter(mdates.DateFormatter('%H:%M'))\n",
    "\n",
    "    #############################################################################\n",
    "\n",
    "    axs[3].step(df['Timestamp'], df['Average Speed Lane 1'], color = 'black', where='post')\n",
    "    axs[3].set_title('Average Speed Lane 1 Microwave')\n",
    "    axs[3].set_xlim(df['Timestamp'].min(), df['Timestamp'].max())\n",
    "    # axs[3].set_ylim(df['Average Speed Lane 1'].min(), df['Average Speed Lane 1'].max())\n",
    "    axs[3].tick_params(axis='x', rotation=45)\n",
    "\n",
    "    # min_value1 = df['Average Speed Lane 1'].min()\n",
    "    # max_value1 = df['Average Speed Lane 1'].max()\n",
    "    # ticks1 = np.linspace(min_value1, max_value1, num=5)\n",
    "    # axs[3].set_ylim(min_value1, max_value1)\n",
    "    # axs[3].set_yticks(ticks1)\n",
    "\n",
    "    for region in highlight_regions:\n",
    "        highlight_start, highlight_end = region\n",
    "        axs[3].axvspan(highlight_start, highlight_end, alpha=0.3, color='yellow')\n",
    "\n",
    "    \n",
    "    axs[3].xaxis.set_major_locator(mdates.MinuteLocator(interval=5))\n",
    "    axs[3].xaxis.set_major_formatter(mdates.DateFormatter('%H:%M'))\n",
    "\n",
    "\n",
    "\n",
    "    #############################################################################\n",
    "\n",
    "    axs[2].step(df['Timestamp'], df['Average Speed Lane 1 DeepSORT'], color = 'saddlebrown', where='post')\n",
    "    axs[2].set_title('Average Speed Lane 1 DeepSORT')\n",
    "    axs[2].set_xlim(df['Timestamp'].min(), df['Timestamp'].max())\n",
    "    # axs[1].set_ylim(df['Average Speed Lane 1 DeepSORT'].min(), df['Average Speed Lane 1 DeepSORT'].max())\n",
    "    axs[2].tick_params(axis='x', rotation=45)\n",
    "\n",
    "    # min_value1 = df['Average Speed Lane 1 DeepSORT'].min()\n",
    "    # max_value1 = df['Average Speed Lane 1 DeepSORT'].max()\n",
    "    # ticks1 = np.linspace(min_value1, max_value1, num=5)\n",
    "    # axs[1].set_ylim(min_value1, max_value1)\n",
    "    # axs[1].set_yticks(ticks1)\n",
    "\n",
    "    axs[2].xaxis.set_major_locator(mdates.MinuteLocator(interval=5))\n",
    "    axs[2].xaxis.set_major_formatter(mdates.DateFormatter('%H:%M'))\n",
    "\n",
    "\n",
    "    #############################################################################\n",
    "\n",
    "    axs[1].step(df['Timestamp'], df['Average Occupancy Lane 1'], color = 'darkcyan', where='post')\n",
    "    axs[1].set_title('Average Occupancy Lane 1 Microwave')\n",
    "    axs[1].set_xlim(df['Timestamp'].min(), df['Timestamp'].max())\n",
    "    # axs[0].set_ylim(df['Congestion measure Lane 1 DeepSORT'].min(), df['Average Vehicle Density Lane 1 DeepSORT'].max())\n",
    "    axs[1].tick_params(axis='x', rotation=45)\n",
    "\n",
    "    # min_value1 = df['Average Vehicle Density Lane 1 DeepSORT'].min()\n",
    "    # max_value1 = df['Average Vehicle Density Lane 1 DeepSORT'].max()\n",
    "    # ticks1 = np.linspace(min_value1, max_value1, num=5)\n",
    "    # axs[0].set_ylim(min_value1, max_value1)\n",
    "    # axs[0].set_yticks(ticks1)\n",
    "\n",
    "    axs[1].xaxis.set_major_locator(mdates.MinuteLocator(interval=5))\n",
    "    axs[1].xaxis.set_major_formatter(mdates.DateFormatter('%H:%M'))\n",
    "\n",
    "    #############################################################################\n",
    "\n",
    "\n",
    "    axs[0].step(df['Timestamp'], df['Average Vehicle Density Lane 1 DeepSORT'], color = 'violet', where='post')\n",
    "    axs[0].set_title('Average Vehicle Density Lane 1 DeepSORT')\n",
    "    axs[0].set_xlim(df['Timestamp'].min(), df['Timestamp'].max())\n",
    "    # axs[0].set_ylim(df['Congestion measure Lane 1 DeepSORT'].min(), df['Average Vehicle Density Lane 1 DeepSORT'].max())\n",
    "    axs[0].tick_params(axis='x', rotation=45)\n",
    "\n",
    "    # min_value1 = df['Average Vehicle Density Lane 1 DeepSORT'].min()\n",
    "    # max_value1 = df['Average Vehicle Density Lane 1 DeepSORT'].max()\n",
    "    # ticks1 = np.linspace(min_value1, max_value1, num=5)\n",
    "    # axs[0].set_ylim(min_value1, max_value1)\n",
    "    # axs[0].set_yticks(ticks1)\n",
    "\n",
    "    axs[0].xaxis.set_major_locator(mdates.MinuteLocator(interval=5))\n",
    "    axs[0].xaxis.set_major_formatter(mdates.DateFormatter('%H:%M'))\n",
    "    #############################################################################\n",
    "\n",
    "    # Adjust the spacing between subplots\n",
    "    plt.tight_layout()\n",
    "    plt.savefig(file_path.split(\".\")[0] + '.png')\n",
    "    plt.clf()\n",
    "    \n",
    "    plt.close('all')\n",
    "    plt.figure(figsize=(7, 7))\n",
    "    \n",
    "    #Ramp Metering Rate vs Average Speed\n",
    "    plt.scatter(df['Aggregate ramp metering rate'], df['Average Speed Lane 1'], color = 'red')\n",
    "    plt.xlabel('Aggregate ramp metering rate')\n",
    "    plt.ylabel('Average Speed Lane 1 Microwave')\n",
    "    plt.title('Average Speed Lane 1 Microwave vs Aggregate ramp metering rate')\n",
    "    plt.savefig(file_path.split(\".\")[0] + '_Ramp Metering Rate vs Average Speed.png')\n",
    "    plt.clf()\n",
    "    \n",
    "    #Ramp Metering Rate vs Lane 1 Flow Rate\n",
    "    plt.scatter(df['Aggregate ramp metering rate'], df['Average Flow Rate Lane 1'], color = 'blue')\n",
    "    plt.xlabel('Aggregate ramp metering rate')\n",
    "    plt.ylabel('Average Flow Rate Lane 1 Microwave')\n",
    "    plt.title('Average Flow Rate Lane 1 Microwave vs Aggregate ramp metering rate')\n",
    "    plt.savefig(file_path.split(\".\")[0] + '_Ramp Metering Rate vs Lane 1 Flow Rate.png')\n",
    "    plt.clf()\n",
    "    \n",
    "    #Ramp Metering Rate vs Congestion metric\n",
    "    plt.scatter(df['Aggregate ramp metering rate'], df['Congestion measure Lane 1'], color = 'green')\n",
    "    plt.xlabel('Aggregate ramp metering rate')\n",
    "    plt.ylabel('Inverse Congestion measure Lane 1 Microwave')\n",
    "    plt.title('Inverse Congestion measure Lane 1 Microwave vs Aggregate ramp metering rate')\n",
    "    plt.savefig(file_path.split(\".\")[0] + '_Ramp Metering Rate vs Congestion metric.png')\n",
    "    plt.clf()\n",
    "    \n",
    "    #Ramp Metering Rate vs Ramp Demand\n",
    "    plt.scatter(df['Aggregate ramp metering rate'], df['Aggregate Ramp Demand flow rate'], color = 'black')\n",
    "    plt.xlabel('Aggregate ramp metering rate')\n",
    "    plt.ylabel('Aggregate Ramp Demand flow rate')\n",
    "    plt.title('Aggregate Ramp Demand flow rate vs Aggregate ramp metering rate')\n",
    "    plt.savefig(file_path.split(\".\")[0] + '_Ramp Metering Rate vs Ramp Demand.png')\n",
    "    plt.clf()\n",
    "    \n",
    "    #Ramp Demand vs Ramp Passage\n",
    "    plt.scatter(df['Aggregate Ramp Demand flow rate'], df['Aggregate Ramp Passage flow rate'], color = 'darkcyan')\n",
    "    plt.xlabel('Aggregate Ramp Demand flow rate')\n",
    "    plt.ylabel('Aggregate Ramp Passage flow rate')\n",
    "    plt.title('Aggregate Ramp Passage flow rate vs Aggregate ramp metering rate')\n",
    "    plt.savefig(file_path.split(\".\")[0] + '_Ramp Demand vs Ramp Passage.png')\n",
    "    plt.clf()\n",
    "    \n",
    "    \n",
    "    \n",
    "    #Ramp Metering Rate vs Average Speed\n",
    "    plt.scatter(df['Aggregate ramp metering rate'], df['Average Occupancy Lane 1'], color = 'violet')\n",
    "    plt.xlabel('Aggregate ramp metering rate')\n",
    "    plt.ylabel('Average Occupancy Lane 1 Microwave')\n",
    "    plt.title('Average Occupancy Lane 1 Microwave vs Aggregate ramp metering rate')\n",
    "    plt.savefig(file_path.split(\".\")[0] + '_Ramp Metering Rate vs Average Occupancy.png')\n",
    "    plt.clf()\n",
    "    \n",
    "    # Show the plot\n",
    "#     plt.show()"
   ]
  },
  {
   "cell_type": "code",
   "execution_count": 40,
   "id": "77f11d3a",
   "metadata": {},
   "outputs": [
    {
     "data": {
      "image/png": "[encoded data removed]",
      "text/plain": [
       "<Figure size 432x288 with 1 Axes>"
      ]
     },
     "metadata": {
      "needs_background": "light"
     },
     "output_type": "display_data"
    }
   ],
   "source": [
    "import matplotlib.pyplot as plt\n",
    "from datetime import datetime\n",
    "\n",
    "# Generate some data for plotting\n",
    "x = [datetime(2023, 4, 18, 10, 30, 0),\n",
    "     datetime(2023, 4, 19, 8, 0, 0),\n",
    "     datetime(2023, 4, 19, 14, 0, 0),\n",
    "     datetime(2023, 4, 20, 18, 0, 0),\n",
    "     datetime(2023, 4, 21, 12, 0, 0)]\n",
    "y = [2, 4, 6, 8, 10]\n",
    "\n",
    "# Create the plot\n",
    "fig, ax = plt.subplots()\n",
    "\n",
    "# Convert timestamp strings to datetime objects\n",
    "highlight_regions = [(\"2023-04-19 10:00:00\", \"2023-04-19 15:00:00\"),\n",
    "                     (\"2023-04-20 16:00:00\", \"2023-04-21 14:00:00\")]\n",
    "\n",
    "highlight_regions = [(datetime.strptime(start, \"%Y-%m-%d %H:%M:%S\"), datetime.strptime(end, \"%Y-%m-%d %H:%M:%S\")) \n",
    "                     for start, end in highlight_regions]\n",
    "\n",
    "# Plot the entire data\n",
    "ax.plot(x, y, label='Data')\n",
    "\n",
    "# Overlay shaded regions\n",
    "for region in highlight_regions:\n",
    "    highlight_start, highlight_end = region\n",
    "    ax.axvspan(highlight_start, highlight_end, alpha=0.3, color='yellow')\n",
    "\n",
    "# Add a legend for the shaded regions\n",
    "ax.plot([], [], color='yellow', alpha=0.3, label='Highlight')\n",
    "\n",
    "# Add a legend for the data\n",
    "ax.legend()\n",
    "\n",
    "# Display the plot\n",
    "plt.show()"
   ]
  },
  {
   "cell_type": "code",
   "execution_count": 160,
   "id": "34430d48",
   "metadata": {},
   "outputs": [
    {
     "data": {
      "image/png": "[encoded data removed]",
      "text/plain": [
       "<Figure size 576x432 with 1 Axes>"
      ]
     },
     "metadata": {
      "needs_background": "light"
     },
     "output_type": "display_data"
    }
   ],
   "source": [
    "# Generate some random data\n",
    "np.random.seed(42)\n",
    "n_points = 100\n",
    "x = np.random.rand(n_points)\n",
    "y = np.random.rand(n_points)\n",
    "z = np.random.rand(n_points)\n",
    "\n",
    "# Create a 3D scatter plot\n",
    "fig = plt.figure(figsize=(8, 6))\n",
    "ax = fig.add_subplot(111, projection='3d')\n",
    "ax.scatter(df['Average Speed Lane 1'], df['Average Occupancy Lane 1'], df['Aggregate ramp metering rate'])\n",
    "\n",
    "# Set labels and title\n",
    "ax.set_xlabel('Average Speed Lane 1')\n",
    "ax.set_ylabel('Average Occupancy Lane 1')\n",
    "ax.set_zlabel('Aggregate ramp metering rate')\n",
    "ax.set_title('3D Scatter Plot')\n",
    "\n",
    "# Show the plot\n",
    "plt.show()"
   ]
  },
  {
   "cell_type": "code",
   "execution_count": 52,
   "id": "0631cbaf",
   "metadata": {},
   "outputs": [
    {
     "data": {
      "application/vnd.plotly.v1+json": {
       "config": {
        "plotlyServerURL": "https://plot.ly"
       },
       "data": [
        {
         "mode": "markers",
         "type": "scatter3d",
         "x": [
          27.1333333333333,
          13.8,
          23.4666666666666,
          20.8,
          20.8666666666666,
          17.2,
          15.4,
          16.4,
          18.3333333333333,
          17.8,
          18.2666666666666,
          18.8666666666666,
          19.2666666666666,
          18.6666666666666,
          15.9333333333333,
          16.2666666666666,
          21.8,
          18.9333333333333,
          19.2,
          18.4666666666666,
          14.2,
          16.1333333333333,
          11.9333333333333,
          14.9333333333333,
          16.1333333333333,
          16.8666666666666,
          16.8666666666666
         ],
         "y": [
          25.2666666666666,
          39.2666666666666,
          33.7333333333333,
          33.5333333333333,
          28.2,
          39.0666666666666,
          37.3333333333333,
          37.3333333333333,
          32.6,
          35.6666666666666,
          30.8666666666666,
          36.7333333333333,
          31.8,
          32.4666666666666,
          39.0666666666666,
          34.8666666666666,
          30.7333333333333,
          29.9333333333333,
          31.5333333333333,
          34.6666666666666,
          36.5333333333333,
          35.1333333333333,
          39.2666666666666,
          37.8,
          36.2666666666666,
          37.9333333333333,
          40.2
         ],
         "z": [
          445,
          377.5,
          427.5,
          416.666666666666,
          410,
          390,
          410,
          390,
          400,
          411.25,
          395,
          418,
          410,
          411.25,
          411.666666666666,
          395,
          421.666666666666,
          395,
          380,
          398,
          380,
          400,
          392,
          410,
          390,
          395,
          410
         ]
        }
       ],
       "layout": {
        "scene": {
         "xaxis": {
          "title": {
           "text": "X"
          }
         },
         "yaxis": {
          "title": {
           "text": "Y"
          }
         },
         "zaxis": {
          "title": {
           "text": "Z"
          }
         }
        },
        "template": {
         "data": {
          "bar": [
           {
            "error_x": {
             "color": "#2a3f5f"
            },
            "error_y": {
             "color": "#2a3f5f"
            },
            "marker": {
             "line": {
              "color": "#E5ECF6",
              "width": 0.5
             },
             "pattern": {
              "fillmode": "overlay",
              "size": 10,
              "solidity": 0.2
             }
            },
            "type": "bar"
           }
          ],
          "barpolar": [
           {
            "marker": {
             "line": {
              "color": "#E5ECF6",
              "width": 0.5
             },
             "pattern": {
              "fillmode": "overlay",
              "size": 10,
              "solidity": 0.2
             }
            },
            "type": "barpolar"
           }
          ],
          "carpet": [
           {
            "aaxis": {
             "endlinecolor": "#2a3f5f",
             "gridcolor": "white",
             "linecolor": "white",
             "minorgridcolor": "white",
             "startlinecolor": "#2a3f5f"
            },
            "baxis": {
             "endlinecolor": "#2a3f5f",
             "gridcolor": "white",
             "linecolor": "white",
             "minorgridcolor": "white",
             "startlinecolor": "#2a3f5f"
            },
            "type": "carpet"
           }
          ],
          "choropleth": [
           {
            "colorbar": {
             "outlinewidth": 0,
             "ticks": ""
            },
            "type": "choropleth"
           }
          ],
          "contour": [
           {
            "colorbar": {
             "outlinewidth": 0,
             "ticks": ""
            },
            "colorscale": [
             [
              0,
              "#0d0887"
             ],
             [
              0.1111111111111111,
              "#46039f"
             ],
             [
              0.2222222222222222,
              "#7201a8"
             ],
             [
              0.3333333333333333,
              "#9c179e"
             ],
             [
              0.4444444444444444,
              "#bd3786"
             ],
             [
              0.5555555555555556,
              "#d8576b"
             ],
             [
              0.6666666666666666,
              "#ed7953"
             ],
             [
              0.7777777777777778,
              "#fb9f3a"
             ],
             [
              0.8888888888888888,
              "#fdca26"
             ],
             [
              1,
              "#f0f921"
             ]
            ],
            "type": "contour"
           }
          ],
          "contourcarpet": [
           {
            "colorbar": {
             "outlinewidth": 0,
             "ticks": ""
            },
            "type": "contourcarpet"
           }
          ],
          "heatmap": [
           {
            "colorbar": {
             "outlinewidth": 0,
             "ticks": ""
            },
            "colorscale": [
             [
              0,
              "#0d0887"
             ],
             [
              0.1111111111111111,
              "#46039f"
             ],
             [
              0.2222222222222222,
              "#7201a8"
             ],
             [
              0.3333333333333333,
              "#9c179e"
             ],
             [
              0.4444444444444444,
              "#bd3786"
             ],
             [
              0.5555555555555556,
              "#d8576b"
             ],
             [
              0.6666666666666666,
              "#ed7953"
             ],
             [
              0.7777777777777778,
              "#fb9f3a"
             ],
             [
              0.8888888888888888,
              "#fdca26"
             ],
             [
              1,
              "#f0f921"
             ]
            ],
            "type": "heatmap"
           }
          ],
          "heatmapgl": [
           {
            "colorbar": {
             "outlinewidth": 0,
             "ticks": ""
            },
            "colorscale": [
             [
              0,
              "#0d0887"
             ],
             [
              0.1111111111111111,
              "#46039f"
             ],
             [
              0.2222222222222222,
              "#7201a8"
             ],
             [
              0.3333333333333333,
              "#9c179e"
             ],
             [
              0.4444444444444444,
              "#bd3786"
             ],
             [
              0.5555555555555556,
              "#d8576b"
             ],
             [
              0.6666666666666666,
              "#ed7953"
             ],
             [
              0.7777777777777778,
              "#fb9f3a"
             ],
             [
              0.8888888888888888,
              "#fdca26"
             ],
             [
              1,
              "#f0f921"
             ]
            ],
            "type": "heatmapgl"
           }
          ],
          "histogram": [
           {
            "marker": {
             "pattern": {
              "fillmode": "overlay",
              "size": 10,
              "solidity": 0.2
             }
            },
            "type": "histogram"
           }
          ],
          "histogram2d": [
           {
            "colorbar": {
             "outlinewidth": 0,
             "ticks": ""
            },
            "colorscale": [
             [
              0,
              "#0d0887"
             ],
             [
              0.1111111111111111,
              "#46039f"
             ],
             [
              0.2222222222222222,
              "#7201a8"
             ],
             [
              0.3333333333333333,
              "#9c179e"
             ],
             [
              0.4444444444444444,
              "#bd3786"
             ],
             [
              0.5555555555555556,
              "#d8576b"
             ],
             [
              0.6666666666666666,
              "#ed7953"
             ],
             [
              0.7777777777777778,
              "#fb9f3a"
             ],
             [
              0.8888888888888888,
              "#fdca26"
             ],
             [
              1,
              "#f0f921"
             ]
            ],
            "type": "histogram2d"
           }
          ],
          "histogram2dcontour": [
           {
            "colorbar": {
             "outlinewidth": 0,
             "ticks": ""
            },
            "colorscale": [
             [
              0,
              "#0d0887"
             ],
             [
              0.1111111111111111,
              "#46039f"
             ],
             [
              0.2222222222222222,
              "#7201a8"
             ],
             [
              0.3333333333333333,
              "#9c179e"
             ],
             [
              0.4444444444444444,
              "#bd3786"
             ],
             [
              0.5555555555555556,
              "#d8576b"
             ],
             [
              0.6666666666666666,
              "#ed7953"
             ],
             [
              0.7777777777777778,
              "#fb9f3a"
             ],
             [
              0.8888888888888888,
              "#fdca26"
             ],
             [
              1,
              "#f0f921"
             ]
            ],
            "type": "histogram2dcontour"
           }
          ],
          "mesh3d": [
           {
            "colorbar": {
             "outlinewidth": 0,
             "ticks": ""
            },
            "type": "mesh3d"
           }
          ],
          "parcoords": [
           {
            "line": {
             "colorbar": {
              "outlinewidth": 0,
              "ticks": ""
             }
            },
            "type": "parcoords"
           }
          ],
          "pie": [
           {
            "automargin": true,
            "type": "pie"
           }
          ],
          "scatter": [
           {
            "fillpattern": {
             "fillmode": "overlay",
             "size": 10,
             "solidity": 0.2
            },
            "type": "scatter"
           }
          ],
          "scatter3d": [
           {
            "line": {
             "colorbar": {
              "outlinewidth": 0,
              "ticks": ""
             }
            },
            "marker": {
             "colorbar": {
              "outlinewidth": 0,
              "ticks": ""
             }
            },
            "type": "scatter3d"
           }
          ],
          "scattercarpet": [
           {
            "marker": {
             "colorbar": {
              "outlinewidth": 0,
              "ticks": ""
             }
            },
            "type": "scattercarpet"
           }
          ],
          "scattergeo": [
           {
            "marker": {
             "colorbar": {
              "outlinewidth": 0,
              "ticks": ""
             }
            },
            "type": "scattergeo"
           }
          ],
          "scattergl": [
           {
            "marker": {
             "colorbar": {
              "outlinewidth": 0,
              "ticks": ""
             }
            },
            "type": "scattergl"
           }
          ],
          "scattermapbox": [
           {
            "marker": {
             "colorbar": {
              "outlinewidth": 0,
              "ticks": ""
             }
            },
            "type": "scattermapbox"
           }
          ],
          "scatterpolar": [
           {
            "marker": {
             "colorbar": {
              "outlinewidth": 0,
              "ticks": ""
             }
            },
            "type": "scatterpolar"
           }
          ],
          "scatterpolargl": [
           {
            "marker": {
             "colorbar": {
              "outlinewidth": 0,
              "ticks": ""
             }
            },
            "type": "scatterpolargl"
           }
          ],
          "scatterternary": [
           {
            "marker": {
             "colorbar": {
              "outlinewidth": 0,
              "ticks": ""
             }
            },
            "type": "scatterternary"
           }
          ],
          "surface": [
           {
            "colorbar": {
             "outlinewidth": 0,
             "ticks": ""
            },
            "colorscale": [
             [
              0,
              "#0d0887"
             ],
             [
              0.1111111111111111,
              "#46039f"
             ],
             [
              0.2222222222222222,
              "#7201a8"
             ],
             [
              0.3333333333333333,
              "#9c179e"
             ],
             [
              0.4444444444444444,
              "#bd3786"
             ],
             [
              0.5555555555555556,
              "#d8576b"
             ],
             [
              0.6666666666666666,
              "#ed7953"
             ],
             [
              0.7777777777777778,
              "#fb9f3a"
             ],
             [
              0.8888888888888888,
              "#fdca26"
             ],
             [
              1,
              "#f0f921"
             ]
            ],
            "type": "surface"
           }
          ],
          "table": [
           {
            "cells": {
             "fill": {
              "color": "#EBF0F8"
             },
             "line": {
              "color": "white"
             }
            },
            "header": {
             "fill": {
              "color": "#C8D4E3"
             },
             "line": {
              "color": "white"
             }
            },
            "type": "table"
           }
          ]
         },
         "layout": {
          "annotationdefaults": {
           "arrowcolor": "#2a3f5f",
           "arrowhead": 0,
           "arrowwidth": 1
          },
          "autotypenumbers": "strict",
          "coloraxis": {
           "colorbar": {
            "outlinewidth": 0,
            "ticks": ""
           }
          },
          "colorscale": {
           "diverging": [
            [
             0,
             "#8e0152"
            ],
            [
             0.1,
             "#c51b7d"
            ],
            [
             0.2,
             "#de77ae"
            ],
            [
             0.3,
             "#f1b6da"
            ],
            [
             0.4,
             "#fde0ef"
            ],
            [
             0.5,
             "#f7f7f7"
            ],
            [
             0.6,
             "#e6f5d0"
            ],
            [
             0.7,
             "#b8e186"
            ],
            [
             0.8,
             "#7fbc41"
            ],
            [
             0.9,
             "#4d9221"
            ],
            [
             1,
             "#276419"
            ]
           ],
           "sequential": [
            [
             0,
             "#0d0887"
            ],
            [
             0.1111111111111111,
             "#46039f"
            ],
            [
             0.2222222222222222,
             "#7201a8"
            ],
            [
             0.3333333333333333,
             "#9c179e"
            ],
            [
             0.4444444444444444,
             "#bd3786"
            ],
            [
             0.5555555555555556,
             "#d8576b"
            ],
            [
             0.6666666666666666,
             "#ed7953"
            ],
            [
             0.7777777777777778,
             "#fb9f3a"
            ],
            [
             0.8888888888888888,
             "#fdca26"
            ],
            [
             1,
             "#f0f921"
            ]
           ],
           "sequentialminus": [
            [
             0,
             "#0d0887"
            ],
            [
             0.1111111111111111,
             "#46039f"
            ],
            [
             0.2222222222222222,
             "#7201a8"
            ],
            [
             0.3333333333333333,
             "#9c179e"
            ],
            [
             0.4444444444444444,
             "#bd3786"
            ],
            [
             0.5555555555555556,
             "#d8576b"
            ],
            [
             0.6666666666666666,
             "#ed7953"
            ],
            [
             0.7777777777777778,
             "#fb9f3a"
            ],
            [
             0.8888888888888888,
             "#fdca26"
            ],
            [
             1,
             "#f0f921"
            ]
           ]
          },
          "colorway": [
           "#636efa",
           "#EF553B",
           "#00cc96",
           "#ab63fa",
           "#FFA15A",
           "#19d3f3",
           "#FF6692",
           "#B6E880",
           "#FF97FF",
           "#FECB52"
          ],
          "font": {
           "color": "#2a3f5f"
          },
          "geo": {
           "bgcolor": "white",
           "lakecolor": "white",
           "landcolor": "#E5ECF6",
           "showlakes": true,
           "showland": true,
           "subunitcolor": "white"
          },
          "hoverlabel": {
           "align": "left"
          },
          "hovermode": "closest",
          "mapbox": {
           "style": "light"
          },
          "paper_bgcolor": "white",
          "plot_bgcolor": "#E5ECF6",
          "polar": {
           "angularaxis": {
            "gridcolor": "white",
            "linecolor": "white",
            "ticks": ""
           },
           "bgcolor": "#E5ECF6",
           "radialaxis": {
            "gridcolor": "white",
            "linecolor": "white",
            "ticks": ""
           }
          },
          "scene": {
           "xaxis": {
            "backgroundcolor": "#E5ECF6",
            "gridcolor": "white",
            "gridwidth": 2,
            "linecolor": "white",
            "showbackground": true,
            "ticks": "",
            "zerolinecolor": "white"
           },
           "yaxis": {
            "backgroundcolor": "#E5ECF6",
            "gridcolor": "white",
            "gridwidth": 2,
            "linecolor": "white",
            "showbackground": true,
            "ticks": "",
            "zerolinecolor": "white"
           },
           "zaxis": {
            "backgroundcolor": "#E5ECF6",
            "gridcolor": "white",
            "gridwidth": 2,
            "linecolor": "white",
            "showbackground": true,
            "ticks": "",
            "zerolinecolor": "white"
           }
          },
          "shapedefaults": {
           "line": {
            "color": "#2a3f5f"
           }
          },
          "ternary": {
           "aaxis": {
            "gridcolor": "white",
            "linecolor": "white",
            "ticks": ""
           },
           "baxis": {
            "gridcolor": "white",
            "linecolor": "white",
            "ticks": ""
           },
           "bgcolor": "#E5ECF6",
           "caxis": {
            "gridcolor": "white",
            "linecolor": "white",
            "ticks": ""
           }
          },
          "title": {
           "x": 0.05
          },
          "xaxis": {
           "automargin": true,
           "gridcolor": "white",
           "linecolor": "white",
           "ticks": "",
           "title": {
            "standoff": 15
           },
           "zerolinecolor": "white",
           "zerolinewidth": 2
          },
          "yaxis": {
           "automargin": true,
           "gridcolor": "white",
           "linecolor": "white",
           "ticks": "",
           "title": {
            "standoff": 15
           },
           "zerolinecolor": "white",
           "zerolinewidth": 2
          }
         }
        },
        "title": {
         "text": "Interactive 3D Scatter Plot"
        }
       }
      },
      "text/html": [
       "<div>                            <div id=\"3248ff21-676f-4fbc-aeac-d740d7817d8d\" class=\"plotly-graph-div\" style=\"height:525px; width:100%;\"></div>            <script type=\"text/javascript\">                require([\"plotly\"], function(Plotly) {                    window.PLOTLYENV=window.PLOTLYENV || {};                                    if (document.getElementById(\"3248ff21-676f-4fbc-aeac-d740d7817d8d\")) {                    Plotly.newPlot(                        \"3248ff21-676f-4fbc-aeac-d740d7817d8d\",                        [{\"mode\":\"markers\",\"x\":[27.1333333333333,13.8,23.4666666666666,20.8,20.8666666666666,17.2,15.4,16.4,18.3333333333333,17.8,18.2666666666666,18.8666666666666,19.2666666666666,18.6666666666666,15.9333333333333,16.2666666666666,21.8,18.9333333333333,19.2,18.4666666666666,14.2,16.1333333333333,11.9333333333333,14.9333333333333,16.1333333333333,16.8666666666666,16.8666666666666],\"y\":[25.2666666666666,39.2666666666666,33.7333333333333,33.5333333333333,28.2,39.0666666666666,37.3333333333333,37.3333333333333,32.6,35.6666666666666,30.8666666666666,36.7333333333333,31.8,32.4666666666666,39.0666666666666,34.8666666666666,30.7333333333333,29.9333333333333,31.5333333333333,34.6666666666666,36.5333333333333,35.1333333333333,39.2666666666666,37.8,36.2666666666666,37.9333333333333,40.2],\"z\":[445.0,377.5,427.5,416.666666666666,410.0,390.0,410.0,390.0,400.0,411.25,395.0,418.0,410.0,411.25,411.666666666666,395.0,421.666666666666,395.0,380.0,398.0,380.0,400.0,392.0,410.0,390.0,395.0,410.0],\"type\":\"scatter3d\"}],                        {\"template\":{\"data\":{\"histogram2dcontour\":[{\"type\":\"histogram2dcontour\",\"colorbar\":{\"outlinewidth\":0,\"ticks\":\"\"},\"colorscale\":[[0.0,\"#0d0887\"],[0.1111111111111111,\"#46039f\"],[0.2222222222222222,\"#7201a8\"],[0.3333333333333333,\"#9c179e\"],[0.4444444444444444,\"#bd3786\"],[0.5555555555555556,\"#d8576b\"],[0.6666666666666666,\"#ed7953\"],[0.7777777777777778,\"#fb9f3a\"],[0.8888888888888888,\"#fdca26\"],[1.0,\"#f0f921\"]]}],\"choropleth\":[{\"type\":\"choropleth\",\"colorbar\":{\"outlinewidth\":0,\"ticks\":\"\"}}],\"histogram2d\":[{\"type\":\"histogram2d\",\"colorbar\":{\"outlinewidth\":0,\"ticks\":\"\"},\"colorscale\":[[0.0,\"#0d0887\"],[0.1111111111111111,\"#46039f\"],[0.2222222222222222,\"#7201a8\"],[0.3333333333333333,\"#9c179e\"],[0.4444444444444444,\"#bd3786\"],[0.5555555555555556,\"#d8576b\"],[0.6666666666666666,\"#ed7953\"],[0.7777777777777778,\"#fb9f3a\"],[0.8888888888888888,\"#fdca26\"],[1.0,\"#f0f921\"]]}],\"heatmap\":[{\"type\":\"heatmap\",\"colorbar\":{\"outlinewidth\":0,\"ticks\":\"\"},\"colorscale\":[[0.0,\"#0d0887\"],[0.1111111111111111,\"#46039f\"],[0.2222222222222222,\"#7201a8\"],[0.3333333333333333,\"#9c179e\"],[0.4444444444444444,\"#bd3786\"],[0.5555555555555556,\"#d8576b\"],[0.6666666666666666,\"#ed7953\"],[0.7777777777777778,\"#fb9f3a\"],[0.8888888888888888,\"#fdca26\"],[1.0,\"#f0f921\"]]}],\"heatmapgl\":[{\"type\":\"heatmapgl\",\"colorbar\":{\"outlinewidth\":0,\"ticks\":\"\"},\"colorscale\":[[0.0,\"#0d0887\"],[0.1111111111111111,\"#46039f\"],[0.2222222222222222,\"#7201a8\"],[0.3333333333333333,\"#9c179e\"],[0.4444444444444444,\"#bd3786\"],[0.5555555555555556,\"#d8576b\"],[0.6666666666666666,\"#ed7953\"],[0.7777777777777778,\"#fb9f3a\"],[0.8888888888888888,\"#fdca26\"],[1.0,\"#f0f921\"]]}],\"contourcarpet\":[{\"type\":\"contourcarpet\",\"colorbar\":{\"outlinewidth\":0,\"ticks\":\"\"}}],\"contour\":[{\"type\":\"contour\",\"colorbar\":{\"outlinewidth\":0,\"ticks\":\"\"},\"colorscale\":[[0.0,\"#0d0887\"],[0.1111111111111111,\"#46039f\"],[0.2222222222222222,\"#7201a8\"],[0.3333333333333333,\"#9c179e\"],[0.4444444444444444,\"#bd3786\"],[0.5555555555555556,\"#d8576b\"],[0.6666666666666666,\"#ed7953\"],[0.7777777777777778,\"#fb9f3a\"],[0.8888888888888888,\"#fdca26\"],[1.0,\"#f0f921\"]]}],\"surface\":[{\"type\":\"surface\",\"colorbar\":{\"outlinewidth\":0,\"ticks\":\"\"},\"colorscale\":[[0.0,\"#0d0887\"],[0.1111111111111111,\"#46039f\"],[0.2222222222222222,\"#7201a8\"],[0.3333333333333333,\"#9c179e\"],[0.4444444444444444,\"#bd3786\"],[0.5555555555555556,\"#d8576b\"],[0.6666666666666666,\"#ed7953\"],[0.7777777777777778,\"#fb9f3a\"],[0.8888888888888888,\"#fdca26\"],[1.0,\"#f0f921\"]]}],\"mesh3d\":[{\"type\":\"mesh3d\",\"colorbar\":{\"outlinewidth\":0,\"ticks\":\"\"}}],\"scatter\":[{\"fillpattern\":{\"fillmode\":\"overlay\",\"size\":10,\"solidity\":0.2},\"type\":\"scatter\"}],\"parcoords\":[{\"type\":\"parcoords\",\"line\":{\"colorbar\":{\"outlinewidth\":0,\"ticks\":\"\"}}}],\"scatterpolargl\":[{\"type\":\"scatterpolargl\",\"marker\":{\"colorbar\":{\"outlinewidth\":0,\"ticks\":\"\"}}}],\"bar\":[{\"error_x\":{\"color\":\"#2a3f5f\"},\"error_y\":{\"color\":\"#2a3f5f\"},\"marker\":{\"line\":{\"color\":\"#E5ECF6\",\"width\":0.5},\"pattern\":{\"fillmode\":\"overlay\",\"size\":10,\"solidity\":0.2}},\"type\":\"bar\"}],\"scattergeo\":[{\"type\":\"scattergeo\",\"marker\":{\"colorbar\":{\"outlinewidth\":0,\"ticks\":\"\"}}}],\"scatterpolar\":[{\"type\":\"scatterpolar\",\"marker\":{\"colorbar\":{\"outlinewidth\":0,\"ticks\":\"\"}}}],\"histogram\":[{\"marker\":{\"pattern\":{\"fillmode\":\"overlay\",\"size\":10,\"solidity\":0.2}},\"type\":\"histogram\"}],\"scattergl\":[{\"type\":\"scattergl\",\"marker\":{\"colorbar\":{\"outlinewidth\":0,\"ticks\":\"\"}}}],\"scatter3d\":[{\"type\":\"scatter3d\",\"line\":{\"colorbar\":{\"outlinewidth\":0,\"ticks\":\"\"}},\"marker\":{\"colorbar\":{\"outlinewidth\":0,\"ticks\":\"\"}}}],\"scattermapbox\":[{\"type\":\"scattermapbox\",\"marker\":{\"colorbar\":{\"outlinewidth\":0,\"ticks\":\"\"}}}],\"scatterternary\":[{\"type\":\"scatterternary\",\"marker\":{\"colorbar\":{\"outlinewidth\":0,\"ticks\":\"\"}}}],\"scattercarpet\":[{\"type\":\"scattercarpet\",\"marker\":{\"colorbar\":{\"outlinewidth\":0,\"ticks\":\"\"}}}],\"carpet\":[{\"aaxis\":{\"endlinecolor\":\"#2a3f5f\",\"gridcolor\":\"white\",\"linecolor\":\"white\",\"minorgridcolor\":\"white\",\"startlinecolor\":\"#2a3f5f\"},\"baxis\":{\"endlinecolor\":\"#2a3f5f\",\"gridcolor\":\"white\",\"linecolor\":\"white\",\"minorgridcolor\":\"white\",\"startlinecolor\":\"#2a3f5f\"},\"type\":\"carpet\"}],\"table\":[{\"cells\":{\"fill\":{\"color\":\"#EBF0F8\"},\"line\":{\"color\":\"white\"}},\"header\":{\"fill\":{\"color\":\"#C8D4E3\"},\"line\":{\"color\":\"white\"}},\"type\":\"table\"}],\"barpolar\":[{\"marker\":{\"line\":{\"color\":\"#E5ECF6\",\"width\":0.5},\"pattern\":{\"fillmode\":\"overlay\",\"size\":10,\"solidity\":0.2}},\"type\":\"barpolar\"}],\"pie\":[{\"automargin\":true,\"type\":\"pie\"}]},\"layout\":{\"autotypenumbers\":\"strict\",\"colorway\":[\"#636efa\",\"#EF553B\",\"#00cc96\",\"#ab63fa\",\"#FFA15A\",\"#19d3f3\",\"#FF6692\",\"#B6E880\",\"#FF97FF\",\"#FECB52\"],\"font\":{\"color\":\"#2a3f5f\"},\"hovermode\":\"closest\",\"hoverlabel\":{\"align\":\"left\"},\"paper_bgcolor\":\"white\",\"plot_bgcolor\":\"#E5ECF6\",\"polar\":{\"bgcolor\":\"#E5ECF6\",\"angularaxis\":{\"gridcolor\":\"white\",\"linecolor\":\"white\",\"ticks\":\"\"},\"radialaxis\":{\"gridcolor\":\"white\",\"linecolor\":\"white\",\"ticks\":\"\"}},\"ternary\":{\"bgcolor\":\"#E5ECF6\",\"aaxis\":{\"gridcolor\":\"white\",\"linecolor\":\"white\",\"ticks\":\"\"},\"baxis\":{\"gridcolor\":\"white\",\"linecolor\":\"white\",\"ticks\":\"\"},\"caxis\":{\"gridcolor\":\"white\",\"linecolor\":\"white\",\"ticks\":\"\"}},\"coloraxis\":{\"colorbar\":{\"outlinewidth\":0,\"ticks\":\"\"}},\"colorscale\":{\"sequential\":[[0.0,\"#0d0887\"],[0.1111111111111111,\"#46039f\"],[0.2222222222222222,\"#7201a8\"],[0.3333333333333333,\"#9c179e\"],[0.4444444444444444,\"#bd3786\"],[0.5555555555555556,\"#d8576b\"],[0.6666666666666666,\"#ed7953\"],[0.7777777777777778,\"#fb9f3a\"],[0.8888888888888888,\"#fdca26\"],[1.0,\"#f0f921\"]],\"sequentialminus\":[[0.0,\"#0d0887\"],[0.1111111111111111,\"#46039f\"],[0.2222222222222222,\"#7201a8\"],[0.3333333333333333,\"#9c179e\"],[0.4444444444444444,\"#bd3786\"],[0.5555555555555556,\"#d8576b\"],[0.6666666666666666,\"#ed7953\"],[0.7777777777777778,\"#fb9f3a\"],[0.8888888888888888,\"#fdca26\"],[1.0,\"#f0f921\"]],\"diverging\":[[0,\"#8e0152\"],[0.1,\"#c51b7d\"],[0.2,\"#de77ae\"],[0.3,\"#f1b6da\"],[0.4,\"#fde0ef\"],[0.5,\"#f7f7f7\"],[0.6,\"#e6f5d0\"],[0.7,\"#b8e186\"],[0.8,\"#7fbc41\"],[0.9,\"#4d9221\"],[1,\"#276419\"]]},\"xaxis\":{\"gridcolor\":\"white\",\"linecolor\":\"white\",\"ticks\":\"\",\"title\":{\"standoff\":15},\"zerolinecolor\":\"white\",\"automargin\":true,\"zerolinewidth\":2},\"yaxis\":{\"gridcolor\":\"white\",\"linecolor\":\"white\",\"ticks\":\"\",\"title\":{\"standoff\":15},\"zerolinecolor\":\"white\",\"automargin\":true,\"zerolinewidth\":2},\"scene\":{\"xaxis\":{\"backgroundcolor\":\"#E5ECF6\",\"gridcolor\":\"white\",\"linecolor\":\"white\",\"showbackground\":true,\"ticks\":\"\",\"zerolinecolor\":\"white\",\"gridwidth\":2},\"yaxis\":{\"backgroundcolor\":\"#E5ECF6\",\"gridcolor\":\"white\",\"linecolor\":\"white\",\"showbackground\":true,\"ticks\":\"\",\"zerolinecolor\":\"white\",\"gridwidth\":2},\"zaxis\":{\"backgroundcolor\":\"#E5ECF6\",\"gridcolor\":\"white\",\"linecolor\":\"white\",\"showbackground\":true,\"ticks\":\"\",\"zerolinecolor\":\"white\",\"gridwidth\":2}},\"shapedefaults\":{\"line\":{\"color\":\"#2a3f5f\"}},\"annotationdefaults\":{\"arrowcolor\":\"#2a3f5f\",\"arrowhead\":0,\"arrowwidth\":1},\"geo\":{\"bgcolor\":\"white\",\"landcolor\":\"#E5ECF6\",\"subunitcolor\":\"white\",\"showland\":true,\"showlakes\":true,\"lakecolor\":\"white\"},\"title\":{\"x\":0.05},\"mapbox\":{\"style\":\"light\"}}},\"scene\":{\"xaxis\":{\"title\":{\"text\":\"X\"}},\"yaxis\":{\"title\":{\"text\":\"Y\"}},\"zaxis\":{\"title\":{\"text\":\"Z\"}}},\"title\":{\"text\":\"Interactive 3D Scatter Plot\"}},                        {\"responsive\": true}                    ).then(function(){\n",
       "                            \n",
       "var gd = document.getElementById('3248ff21-676f-4fbc-aeac-d740d7817d8d');\n",
       "var x = new MutationObserver(function (mutations, observer) {{\n",
       "        var display = window.getComputedStyle(gd).display;\n",
       "        if (!display || display === 'none') {{\n",
       "            console.log([gd, 'removed!']);\n",
       "            Plotly.purge(gd);\n",
       "            observer.disconnect();\n",
       "        }}\n",
       "}});\n",
       "\n",
       "// Listen for the removal of the full notebook cells\n",
       "var notebookContainer = gd.closest('#notebook-container');\n",
       "if (notebookContainer) {{\n",
       "    x.observe(notebookContainer, {childList: true});\n",
       "}}\n",
       "\n",
       "// Listen for the clearing of the current output cell\n",
       "var outputEl = gd.closest('.output');\n",
       "if (outputEl) {{\n",
       "    x.observe(outputEl, {childList: true});\n",
       "}}\n",
       "\n",
       "                        })                };                });            </script>        </div>"
      ]
     },
     "metadata": {},
     "output_type": "display_data"
    }
   ],
   "source": [
    "import plotly.graph_objects as go\n",
    "import numpy as np\n",
    "\n",
    "# Generate some random data\n",
    "np.random.seed(42)\n",
    "n_points = 100\n",
    "x = df['Average Speed Lane 1']\n",
    "y = df['Average Occupancy Lane 1']\n",
    "z = df['Aggregate ramp metering rate']\n",
    "\n",
    "# Create a 3D scatter plot\n",
    "fig = go.Figure(data=[go.Scatter3d(x=x, y=y, z=z, mode='markers')])\n",
    "\n",
    "# Set axes labels and title\n",
    "fig.update_layout(scene=dict(xaxis_title='X', yaxis_title='Y', zaxis_title='Z'),\n",
    "                  title='Interactive 3D Scatter Plot')\n",
    "\n",
    "# Show the plot\n",
    "fig.show()"
   ]
  },
  {
   "cell_type": "code",
   "execution_count": 86,
   "id": "021cd695",
   "metadata": {},
   "outputs": [
    {
     "data": {
      "image/png": "[encoded data removed]",
      "text/plain": [
       "<Figure size 432x288 with 1 Axes>"
      ]
     },
     "metadata": {
      "needs_background": "light"
     },
     "output_type": "display_data"
    }
   ],
   "source": [
    "import matplotlib.pyplot as plt\n",
    "\n",
    "# Sample data\n",
    "x = [1, 2, 3, 4, 5, 6, 7, 8, 9, 10]\n",
    "y = [3, 5, 7, 8, 10, 12, 15, 17, 19, 21]\n",
    "\n",
    "# Indices of points to highlight and their corresponding descriptions\n",
    "highlight_indices = [2, 5, 8]\n",
    "highlight_descriptions = ['A', 'B', 'C']\n",
    "\n",
    "# Scatter plot\n",
    "plt.scatter(x, y, color='blue', label='Data')\n",
    "\n",
    "# Highlighted points with annotations\n",
    "for i, index in enumerate(highlight_indices):\n",
    "    plt.scatter(x[index], y[index], color='red', label='Highlighted')\n",
    "    plt.annotate(f'{index}: {highlight_descriptions[i]}', xy=(x[index], y[index]), xytext=(10, 10),\n",
    "                 textcoords='offset points', ha='left', va='bottom')\n",
    "\n",
    "# Set labels and title\n",
    "plt.xlabel('X')\n",
    "plt.ylabel('Y')\n",
    "plt.title('Scatter Plot with Highlighted Points and Annotations')\n",
    "\n",
    "# Show legend\n",
    "plt.legend()\n",
    "\n",
    "# Show the plot\n",
    "plt.show()"
   ]
  },
  {
   "cell_type": "code",
   "execution_count": 89,
   "id": "8d7f7fb0",
   "metadata": {},
   "outputs": [
    {
     "name": "stderr",
     "output_type": "stream",
     "text": [
      "C:\\Users\\vipul\\anaconda3\\envs\\myenv\\lib\\site-packages\\matplotlib\\collections.py:1039: UserWarning:\n",
      "\n",
      "Collection without array used. Make sure to specify the values to be colormapped via the `c` argument.\n",
      "\n"
     ]
    },
    {
     "data": {
      "image/png": "[encoded data removed]",
      "text/plain": [
       "<Figure size 432x288 with 1 Axes>"
      ]
     },
     "metadata": {
      "needs_background": "light"
     },
     "output_type": "display_data"
    }
   ],
   "source": [
    "import matplotlib.pyplot as plt\n",
    "import matplotlib.patches as mpatches\n",
    "\n",
    "# Sample data\n",
    "x = [1, 2, 3, 4, 5, 6, 7, 8, 9, 10]\n",
    "y = [3, 5, 7, 8, 10, 12, 15, 17, 19, 21]\n",
    "\n",
    "# Indices of points to highlight and their corresponding descriptions\n",
    "highlight_indices = [2, 5, 8]\n",
    "highlight_descriptions = ['Description A', 'Description B', 'Description C']\n",
    "\n",
    "# Scatter plot\n",
    "scatter = plt.scatter(x, y, color='blue', label='Data')\n",
    "\n",
    "# Highlighted points with annotations\n",
    "for i, index in enumerate(highlight_indices):\n",
    "    plt.scatter(x[index], y[index], color='red', label=f'Highlighted {index}')\n",
    "    plt.annotate(index, xy=(x[index], y[index]), xytext=(10, 10),\n",
    "                 textcoords='offset points', ha='left', va='bottom')\n",
    "\n",
    "# Custom legend entries with descriptions\n",
    "legend_entries = [mpatches.Patch(color='red', label=f'Highlighted {index}: {desc}')\n",
    "                  for index, desc in zip(highlight_indices, highlight_descriptions)]\n",
    "\n",
    "# Set labels and title\n",
    "plt.xlabel('X')\n",
    "plt.ylabel('Y')\n",
    "plt.title('Scatter Plot with Highlighted Points and Legend')\n",
    "\n",
    "# Show legend\n",
    "plt.legend(handles=[*scatter.legend_elements()[0], *legend_entries])\n",
    "\n",
    "# Show the plot\n",
    "plt.show()"
   ]
  },
  {
   "cell_type": "code",
   "execution_count": 93,
   "id": "64bcec89",
   "metadata": {},
   "outputs": [
    {
     "data": {
      "application/vnd.plotly.v1+json": {
       "config": {
        "plotlyServerURL": "https://plot.ly"
       },
       "data": [
        {
         "hoverinfo": "text+x+y",
         "hovertext": [
          "2023-04-19T15:15:00",
          "2023-04-19T15:20:00",
          "2023-04-19T15:30:00",
          "2023-04-19T15:35:00",
          "2023-04-19T15:40:00",
          "2023-04-19T15:45:00",
          "2023-04-19T15:50:00",
          "2023-04-19T15:55:00",
          "2023-04-19T16:00:00",
          "2023-04-19T16:05:00",
          "2023-04-19T16:15:00",
          "2023-04-19T16:20:00",
          "2023-04-19T16:25:00",
          "2023-04-19T16:30:00",
          "2023-04-19T16:35:00",
          "2023-04-19T16:40:00",
          "2023-04-19T16:45:00",
          "2023-04-19T16:55:00",
          "2023-04-19T17:00:00",
          "2023-04-19T17:05:00",
          "2023-04-19T17:10:00",
          "2023-04-19T17:15:00",
          "2023-04-19T17:20:00",
          "2023-04-19T17:25:00",
          "2023-04-19T17:30:00",
          "2023-04-19T17:35:00",
          "2023-04-19T17:40:00"
         ],
         "mode": "markers",
         "type": "scatter",
         "x": [
          445,
          377.5,
          427.5,
          416.666666666666,
          410,
          390,
          410,
          390,
          400,
          411.25,
          395,
          418,
          410,
          411.25,
          411.666666666666,
          395,
          421.666666666666,
          395,
          380,
          398,
          380,
          400,
          392,
          410,
          390,
          395,
          410
         ],
         "y": [
          27.1333333333333,
          13.8,
          23.4666666666666,
          20.8,
          20.8666666666666,
          17.2,
          15.4,
          16.4,
          18.3333333333333,
          17.8,
          18.2666666666666,
          18.8666666666666,
          19.2666666666666,
          18.6666666666666,
          15.9333333333333,
          16.2666666666666,
          21.8,
          18.9333333333333,
          19.2,
          18.4666666666666,
          14.2,
          16.1333333333333,
          11.9333333333333,
          14.9333333333333,
          16.1333333333333,
          16.8666666666666,
          16.8666666666666
         ]
        }
       ],
       "layout": {
        "template": {
         "data": {
          "bar": [
           {
            "error_x": {
             "color": "#2a3f5f"
            },
            "error_y": {
             "color": "#2a3f5f"
            },
            "marker": {
             "line": {
              "color": "#E5ECF6",
              "width": 0.5
             },
             "pattern": {
              "fillmode": "overlay",
              "size": 10,
              "solidity": 0.2
             }
            },
            "type": "bar"
           }
          ],
          "barpolar": [
           {
            "marker": {
             "line": {
              "color": "#E5ECF6",
              "width": 0.5
             },
             "pattern": {
              "fillmode": "overlay",
              "size": 10,
              "solidity": 0.2
             }
            },
            "type": "barpolar"
           }
          ],
          "carpet": [
           {
            "aaxis": {
             "endlinecolor": "#2a3f5f",
             "gridcolor": "white",
             "linecolor": "white",
             "minorgridcolor": "white",
             "startlinecolor": "#2a3f5f"
            },
            "baxis": {
             "endlinecolor": "#2a3f5f",
             "gridcolor": "white",
             "linecolor": "white",
             "minorgridcolor": "white",
             "startlinecolor": "#2a3f5f"
            },
            "type": "carpet"
           }
          ],
          "choropleth": [
           {
            "colorbar": {
             "outlinewidth": 0,
             "ticks": ""
            },
            "type": "choropleth"
           }
          ],
          "contour": [
           {
            "colorbar": {
             "outlinewidth": 0,
             "ticks": ""
            },
            "colorscale": [
             [
              0,
              "#0d0887"
             ],
             [
              0.1111111111111111,
              "#46039f"
             ],
             [
              0.2222222222222222,
              "#7201a8"
             ],
             [
              0.3333333333333333,
              "#9c179e"
             ],
             [
              0.4444444444444444,
              "#bd3786"
             ],
             [
              0.5555555555555556,
              "#d8576b"
             ],
             [
              0.6666666666666666,
              "#ed7953"
             ],
             [
              0.7777777777777778,
              "#fb9f3a"
             ],
             [
              0.8888888888888888,
              "#fdca26"
             ],
             [
              1,
              "#f0f921"
             ]
            ],
            "type": "contour"
           }
          ],
          "contourcarpet": [
           {
            "colorbar": {
             "outlinewidth": 0,
             "ticks": ""
            },
            "type": "contourcarpet"
           }
          ],
          "heatmap": [
           {
            "colorbar": {
             "outlinewidth": 0,
             "ticks": ""
            },
            "colorscale": [
             [
              0,
              "#0d0887"
             ],
             [
              0.1111111111111111,
              "#46039f"
             ],
             [
              0.2222222222222222,
              "#7201a8"
             ],
             [
              0.3333333333333333,
              "#9c179e"
             ],
             [
              0.4444444444444444,
              "#bd3786"
             ],
             [
              0.5555555555555556,
              "#d8576b"
             ],
             [
              0.6666666666666666,
              "#ed7953"
             ],
             [
              0.7777777777777778,
              "#fb9f3a"
             ],
             [
              0.8888888888888888,
              "#fdca26"
             ],
             [
              1,
              "#f0f921"
             ]
            ],
            "type": "heatmap"
           }
          ],
          "heatmapgl": [
           {
            "colorbar": {
             "outlinewidth": 0,
             "ticks": ""
            },
            "colorscale": [
             [
              0,
              "#0d0887"
             ],
             [
              0.1111111111111111,
              "#46039f"
             ],
             [
              0.2222222222222222,
              "#7201a8"
             ],
             [
              0.3333333333333333,
              "#9c179e"
             ],
             [
              0.4444444444444444,
              "#bd3786"
             ],
             [
              0.5555555555555556,
              "#d8576b"
             ],
             [
              0.6666666666666666,
              "#ed7953"
             ],
             [
              0.7777777777777778,
              "#fb9f3a"
             ],
             [
              0.8888888888888888,
              "#fdca26"
             ],
             [
              1,
              "#f0f921"
             ]
            ],
            "type": "heatmapgl"
           }
          ],
          "histogram": [
           {
            "marker": {
             "pattern": {
              "fillmode": "overlay",
              "size": 10,
              "solidity": 0.2
             }
            },
            "type": "histogram"
           }
          ],
          "histogram2d": [
           {
            "colorbar": {
             "outlinewidth": 0,
             "ticks": ""
            },
            "colorscale": [
             [
              0,
              "#0d0887"
             ],
             [
              0.1111111111111111,
              "#46039f"
             ],
             [
              0.2222222222222222,
              "#7201a8"
             ],
             [
              0.3333333333333333,
              "#9c179e"
             ],
             [
              0.4444444444444444,
              "#bd3786"
             ],
             [
              0.5555555555555556,
              "#d8576b"
             ],
             [
              0.6666666666666666,
              "#ed7953"
             ],
             [
              0.7777777777777778,
              "#fb9f3a"
             ],
             [
              0.8888888888888888,
              "#fdca26"
             ],
             [
              1,
              "#f0f921"
             ]
            ],
            "type": "histogram2d"
           }
          ],
          "histogram2dcontour": [
           {
            "colorbar": {
             "outlinewidth": 0,
             "ticks": ""
            },
            "colorscale": [
             [
              0,
              "#0d0887"
             ],
             [
              0.1111111111111111,
              "#46039f"
             ],
             [
              0.2222222222222222,
              "#7201a8"
             ],
             [
              0.3333333333333333,
              "#9c179e"
             ],
             [
              0.4444444444444444,
              "#bd3786"
             ],
             [
              0.5555555555555556,
              "#d8576b"
             ],
             [
              0.6666666666666666,
              "#ed7953"
             ],
             [
              0.7777777777777778,
              "#fb9f3a"
             ],
             [
              0.8888888888888888,
              "#fdca26"
             ],
             [
              1,
              "#f0f921"
             ]
            ],
            "type": "histogram2dcontour"
           }
          ],
          "mesh3d": [
           {
            "colorbar": {
             "outlinewidth": 0,
             "ticks": ""
            },
            "type": "mesh3d"
           }
          ],
          "parcoords": [
           {
            "line": {
             "colorbar": {
              "outlinewidth": 0,
              "ticks": ""
             }
            },
            "type": "parcoords"
           }
          ],
          "pie": [
           {
            "automargin": true,
            "type": "pie"
           }
          ],
          "scatter": [
           {
            "fillpattern": {
             "fillmode": "overlay",
             "size": 10,
             "solidity": 0.2
            },
            "type": "scatter"
           }
          ],
          "scatter3d": [
           {
            "line": {
             "colorbar": {
              "outlinewidth": 0,
              "ticks": ""
             }
            },
            "marker": {
             "colorbar": {
              "outlinewidth": 0,
              "ticks": ""
             }
            },
            "type": "scatter3d"
           }
          ],
          "scattercarpet": [
           {
            "marker": {
             "colorbar": {
              "outlinewidth": 0,
              "ticks": ""
             }
            },
            "type": "scattercarpet"
           }
          ],
          "scattergeo": [
           {
            "marker": {
             "colorbar": {
              "outlinewidth": 0,
              "ticks": ""
             }
            },
            "type": "scattergeo"
           }
          ],
          "scattergl": [
           {
            "marker": {
             "colorbar": {
              "outlinewidth": 0,
              "ticks": ""
             }
            },
            "type": "scattergl"
           }
          ],
          "scattermapbox": [
           {
            "marker": {
             "colorbar": {
              "outlinewidth": 0,
              "ticks": ""
             }
            },
            "type": "scattermapbox"
           }
          ],
          "scatterpolar": [
           {
            "marker": {
             "colorbar": {
              "outlinewidth": 0,
              "ticks": ""
             }
            },
            "type": "scatterpolar"
           }
          ],
          "scatterpolargl": [
           {
            "marker": {
             "colorbar": {
              "outlinewidth": 0,
              "ticks": ""
             }
            },
            "type": "scatterpolargl"
           }
          ],
          "scatterternary": [
           {
            "marker": {
             "colorbar": {
              "outlinewidth": 0,
              "ticks": ""
             }
            },
            "type": "scatterternary"
           }
          ],
          "surface": [
           {
            "colorbar": {
             "outlinewidth": 0,
             "ticks": ""
            },
            "colorscale": [
             [
              0,
              "#0d0887"
             ],
             [
              0.1111111111111111,
              "#46039f"
             ],
             [
              0.2222222222222222,
              "#7201a8"
             ],
             [
              0.3333333333333333,
              "#9c179e"
             ],
             [
              0.4444444444444444,
              "#bd3786"
             ],
             [
              0.5555555555555556,
              "#d8576b"
             ],
             [
              0.6666666666666666,
              "#ed7953"
             ],
             [
              0.7777777777777778,
              "#fb9f3a"
             ],
             [
              0.8888888888888888,
              "#fdca26"
             ],
             [
              1,
              "#f0f921"
             ]
            ],
            "type": "surface"
           }
          ],
          "table": [
           {
            "cells": {
             "fill": {
              "color": "#EBF0F8"
             },
             "line": {
              "color": "white"
             }
            },
            "header": {
             "fill": {
              "color": "#C8D4E3"
             },
             "line": {
              "color": "white"
             }
            },
            "type": "table"
           }
          ]
         },
         "layout": {
          "annotationdefaults": {
           "arrowcolor": "#2a3f5f",
           "arrowhead": 0,
           "arrowwidth": 1
          },
          "autotypenumbers": "strict",
          "coloraxis": {
           "colorbar": {
            "outlinewidth": 0,
            "ticks": ""
           }
          },
          "colorscale": {
           "diverging": [
            [
             0,
             "#8e0152"
            ],
            [
             0.1,
             "#c51b7d"
            ],
            [
             0.2,
             "#de77ae"
            ],
            [
             0.3,
             "#f1b6da"
            ],
            [
             0.4,
             "#fde0ef"
            ],
            [
             0.5,
             "#f7f7f7"
            ],
            [
             0.6,
             "#e6f5d0"
            ],
            [
             0.7,
             "#b8e186"
            ],
            [
             0.8,
             "#7fbc41"
            ],
            [
             0.9,
             "#4d9221"
            ],
            [
             1,
             "#276419"
            ]
           ],
           "sequential": [
            [
             0,
             "#0d0887"
            ],
            [
             0.1111111111111111,
             "#46039f"
            ],
            [
             0.2222222222222222,
             "#7201a8"
            ],
            [
             0.3333333333333333,
             "#9c179e"
            ],
            [
             0.4444444444444444,
             "#bd3786"
            ],
            [
             0.5555555555555556,
             "#d8576b"
            ],
            [
             0.6666666666666666,
             "#ed7953"
            ],
            [
             0.7777777777777778,
             "#fb9f3a"
            ],
            [
             0.8888888888888888,
             "#fdca26"
            ],
            [
             1,
             "#f0f921"
            ]
           ],
           "sequentialminus": [
            [
             0,
             "#0d0887"
            ],
            [
             0.1111111111111111,
             "#46039f"
            ],
            [
             0.2222222222222222,
             "#7201a8"
            ],
            [
             0.3333333333333333,
             "#9c179e"
            ],
            [
             0.4444444444444444,
             "#bd3786"
            ],
            [
             0.5555555555555556,
             "#d8576b"
            ],
            [
             0.6666666666666666,
             "#ed7953"
            ],
            [
             0.7777777777777778,
             "#fb9f3a"
            ],
            [
             0.8888888888888888,
             "#fdca26"
            ],
            [
             1,
             "#f0f921"
            ]
           ]
          },
          "colorway": [
           "#636efa",
           "#EF553B",
           "#00cc96",
           "#ab63fa",
           "#FFA15A",
           "#19d3f3",
           "#FF6692",
           "#B6E880",
           "#FF97FF",
           "#FECB52"
          ],
          "font": {
           "color": "#2a3f5f"
          },
          "geo": {
           "bgcolor": "white",
           "lakecolor": "white",
           "landcolor": "#E5ECF6",
           "showlakes": true,
           "showland": true,
           "subunitcolor": "white"
          },
          "hoverlabel": {
           "align": "left"
          },
          "hovermode": "closest",
          "mapbox": {
           "style": "light"
          },
          "paper_bgcolor": "white",
          "plot_bgcolor": "#E5ECF6",
          "polar": {
           "angularaxis": {
            "gridcolor": "white",
            "linecolor": "white",
            "ticks": ""
           },
           "bgcolor": "#E5ECF6",
           "radialaxis": {
            "gridcolor": "white",
            "linecolor": "white",
            "ticks": ""
           }
          },
          "scene": {
           "xaxis": {
            "backgroundcolor": "#E5ECF6",
            "gridcolor": "white",
            "gridwidth": 2,
            "linecolor": "white",
            "showbackground": true,
            "ticks": "",
            "zerolinecolor": "white"
           },
           "yaxis": {
            "backgroundcolor": "#E5ECF6",
            "gridcolor": "white",
            "gridwidth": 2,
            "linecolor": "white",
            "showbackground": true,
            "ticks": "",
            "zerolinecolor": "white"
           },
           "zaxis": {
            "backgroundcolor": "#E5ECF6",
            "gridcolor": "white",
            "gridwidth": 2,
            "linecolor": "white",
            "showbackground": true,
            "ticks": "",
            "zerolinecolor": "white"
           }
          },
          "shapedefaults": {
           "line": {
            "color": "#2a3f5f"
           }
          },
          "ternary": {
           "aaxis": {
            "gridcolor": "white",
            "linecolor": "white",
            "ticks": ""
           },
           "baxis": {
            "gridcolor": "white",
            "linecolor": "white",
            "ticks": ""
           },
           "bgcolor": "#E5ECF6",
           "caxis": {
            "gridcolor": "white",
            "linecolor": "white",
            "ticks": ""
           }
          },
          "title": {
           "x": 0.05
          },
          "xaxis": {
           "automargin": true,
           "gridcolor": "white",
           "linecolor": "white",
           "ticks": "",
           "title": {
            "standoff": 15
           },
           "zerolinecolor": "white",
           "zerolinewidth": 2
          },
          "yaxis": {
           "automargin": true,
           "gridcolor": "white",
           "linecolor": "white",
           "ticks": "",
           "title": {
            "standoff": 15
           },
           "zerolinecolor": "white",
           "zerolinewidth": 2
          }
         }
        },
        "title": {
         "text": "Interactive Scatter Plot with Tooltips"
        },
        "xaxis": {
         "title": {
          "text": "X"
         }
        },
        "yaxis": {
         "title": {
          "text": "Y"
         }
        }
       }
      },
      "text/html": [
       "<div>                            <div id=\"363953b7-f611-4de1-99bc-bef780898c28\" class=\"plotly-graph-div\" style=\"height:525px; width:100%;\"></div>            <script type=\"text/javascript\">                require([\"plotly\"], function(Plotly) {                    window.PLOTLYENV=window.PLOTLYENV || {};                                    if (document.getElementById(\"363953b7-f611-4de1-99bc-bef780898c28\")) {                    Plotly.newPlot(                        \"363953b7-f611-4de1-99bc-bef780898c28\",                        [{\"hoverinfo\":\"text+x+y\",\"hovertext\":[\"2023-04-19T15:15:00\",\"2023-04-19T15:20:00\",\"2023-04-19T15:30:00\",\"2023-04-19T15:35:00\",\"2023-04-19T15:40:00\",\"2023-04-19T15:45:00\",\"2023-04-19T15:50:00\",\"2023-04-19T15:55:00\",\"2023-04-19T16:00:00\",\"2023-04-19T16:05:00\",\"2023-04-19T16:15:00\",\"2023-04-19T16:20:00\",\"2023-04-19T16:25:00\",\"2023-04-19T16:30:00\",\"2023-04-19T16:35:00\",\"2023-04-19T16:40:00\",\"2023-04-19T16:45:00\",\"2023-04-19T16:55:00\",\"2023-04-19T17:00:00\",\"2023-04-19T17:05:00\",\"2023-04-19T17:10:00\",\"2023-04-19T17:15:00\",\"2023-04-19T17:20:00\",\"2023-04-19T17:25:00\",\"2023-04-19T17:30:00\",\"2023-04-19T17:35:00\",\"2023-04-19T17:40:00\"],\"mode\":\"markers\",\"x\":[445.0,377.5,427.5,416.666666666666,410.0,390.0,410.0,390.0,400.0,411.25,395.0,418.0,410.0,411.25,411.666666666666,395.0,421.666666666666,395.0,380.0,398.0,380.0,400.0,392.0,410.0,390.0,395.0,410.0],\"y\":[27.1333333333333,13.8,23.4666666666666,20.8,20.8666666666666,17.2,15.4,16.4,18.3333333333333,17.8,18.2666666666666,18.8666666666666,19.2666666666666,18.6666666666666,15.9333333333333,16.2666666666666,21.8,18.9333333333333,19.2,18.4666666666666,14.2,16.1333333333333,11.9333333333333,14.9333333333333,16.1333333333333,16.8666666666666,16.8666666666666],\"type\":\"scatter\"}],                        {\"template\":{\"data\":{\"histogram2dcontour\":[{\"type\":\"histogram2dcontour\",\"colorbar\":{\"outlinewidth\":0,\"ticks\":\"\"},\"colorscale\":[[0.0,\"#0d0887\"],[0.1111111111111111,\"#46039f\"],[0.2222222222222222,\"#7201a8\"],[0.3333333333333333,\"#9c179e\"],[0.4444444444444444,\"#bd3786\"],[0.5555555555555556,\"#d8576b\"],[0.6666666666666666,\"#ed7953\"],[0.7777777777777778,\"#fb9f3a\"],[0.8888888888888888,\"#fdca26\"],[1.0,\"#f0f921\"]]}],\"choropleth\":[{\"type\":\"choropleth\",\"colorbar\":{\"outlinewidth\":0,\"ticks\":\"\"}}],\"histogram2d\":[{\"type\":\"histogram2d\",\"colorbar\":{\"outlinewidth\":0,\"ticks\":\"\"},\"colorscale\":[[0.0,\"#0d0887\"],[0.1111111111111111,\"#46039f\"],[0.2222222222222222,\"#7201a8\"],[0.3333333333333333,\"#9c179e\"],[0.4444444444444444,\"#bd3786\"],[0.5555555555555556,\"#d8576b\"],[0.6666666666666666,\"#ed7953\"],[0.7777777777777778,\"#fb9f3a\"],[0.8888888888888888,\"#fdca26\"],[1.0,\"#f0f921\"]]}],\"heatmap\":[{\"type\":\"heatmap\",\"colorbar\":{\"outlinewidth\":0,\"ticks\":\"\"},\"colorscale\":[[0.0,\"#0d0887\"],[0.1111111111111111,\"#46039f\"],[0.2222222222222222,\"#7201a8\"],[0.3333333333333333,\"#9c179e\"],[0.4444444444444444,\"#bd3786\"],[0.5555555555555556,\"#d8576b\"],[0.6666666666666666,\"#ed7953\"],[0.7777777777777778,\"#fb9f3a\"],[0.8888888888888888,\"#fdca26\"],[1.0,\"#f0f921\"]]}],\"heatmapgl\":[{\"type\":\"heatmapgl\",\"colorbar\":{\"outlinewidth\":0,\"ticks\":\"\"},\"colorscale\":[[0.0,\"#0d0887\"],[0.1111111111111111,\"#46039f\"],[0.2222222222222222,\"#7201a8\"],[0.3333333333333333,\"#9c179e\"],[0.4444444444444444,\"#bd3786\"],[0.5555555555555556,\"#d8576b\"],[0.6666666666666666,\"#ed7953\"],[0.7777777777777778,\"#fb9f3a\"],[0.8888888888888888,\"#fdca26\"],[1.0,\"#f0f921\"]]}],\"contourcarpet\":[{\"type\":\"contourcarpet\",\"colorbar\":{\"outlinewidth\":0,\"ticks\":\"\"}}],\"contour\":[{\"type\":\"contour\",\"colorbar\":{\"outlinewidth\":0,\"ticks\":\"\"},\"colorscale\":[[0.0,\"#0d0887\"],[0.1111111111111111,\"#46039f\"],[0.2222222222222222,\"#7201a8\"],[0.3333333333333333,\"#9c179e\"],[0.4444444444444444,\"#bd3786\"],[0.5555555555555556,\"#d8576b\"],[0.6666666666666666,\"#ed7953\"],[0.7777777777777778,\"#fb9f3a\"],[0.8888888888888888,\"#fdca26\"],[1.0,\"#f0f921\"]]}],\"surface\":[{\"type\":\"surface\",\"colorbar\":{\"outlinewidth\":0,\"ticks\":\"\"},\"colorscale\":[[0.0,\"#0d0887\"],[0.1111111111111111,\"#46039f\"],[0.2222222222222222,\"#7201a8\"],[0.3333333333333333,\"#9c179e\"],[0.4444444444444444,\"#bd3786\"],[0.5555555555555556,\"#d8576b\"],[0.6666666666666666,\"#ed7953\"],[0.7777777777777778,\"#fb9f3a\"],[0.8888888888888888,\"#fdca26\"],[1.0,\"#f0f921\"]]}],\"mesh3d\":[{\"type\":\"mesh3d\",\"colorbar\":{\"outlinewidth\":0,\"ticks\":\"\"}}],\"scatter\":[{\"fillpattern\":{\"fillmode\":\"overlay\",\"size\":10,\"solidity\":0.2},\"type\":\"scatter\"}],\"parcoords\":[{\"type\":\"parcoords\",\"line\":{\"colorbar\":{\"outlinewidth\":0,\"ticks\":\"\"}}}],\"scatterpolargl\":[{\"type\":\"scatterpolargl\",\"marker\":{\"colorbar\":{\"outlinewidth\":0,\"ticks\":\"\"}}}],\"bar\":[{\"error_x\":{\"color\":\"#2a3f5f\"},\"error_y\":{\"color\":\"#2a3f5f\"},\"marker\":{\"line\":{\"color\":\"#E5ECF6\",\"width\":0.5},\"pattern\":{\"fillmode\":\"overlay\",\"size\":10,\"solidity\":0.2}},\"type\":\"bar\"}],\"scattergeo\":[{\"type\":\"scattergeo\",\"marker\":{\"colorbar\":{\"outlinewidth\":0,\"ticks\":\"\"}}}],\"scatterpolar\":[{\"type\":\"scatterpolar\",\"marker\":{\"colorbar\":{\"outlinewidth\":0,\"ticks\":\"\"}}}],\"histogram\":[{\"marker\":{\"pattern\":{\"fillmode\":\"overlay\",\"size\":10,\"solidity\":0.2}},\"type\":\"histogram\"}],\"scattergl\":[{\"type\":\"scattergl\",\"marker\":{\"colorbar\":{\"outlinewidth\":0,\"ticks\":\"\"}}}],\"scatter3d\":[{\"type\":\"scatter3d\",\"line\":{\"colorbar\":{\"outlinewidth\":0,\"ticks\":\"\"}},\"marker\":{\"colorbar\":{\"outlinewidth\":0,\"ticks\":\"\"}}}],\"scattermapbox\":[{\"type\":\"scattermapbox\",\"marker\":{\"colorbar\":{\"outlinewidth\":0,\"ticks\":\"\"}}}],\"scatterternary\":[{\"type\":\"scatterternary\",\"marker\":{\"colorbar\":{\"outlinewidth\":0,\"ticks\":\"\"}}}],\"scattercarpet\":[{\"type\":\"scattercarpet\",\"marker\":{\"colorbar\":{\"outlinewidth\":0,\"ticks\":\"\"}}}],\"carpet\":[{\"aaxis\":{\"endlinecolor\":\"#2a3f5f\",\"gridcolor\":\"white\",\"linecolor\":\"white\",\"minorgridcolor\":\"white\",\"startlinecolor\":\"#2a3f5f\"},\"baxis\":{\"endlinecolor\":\"#2a3f5f\",\"gridcolor\":\"white\",\"linecolor\":\"white\",\"minorgridcolor\":\"white\",\"startlinecolor\":\"#2a3f5f\"},\"type\":\"carpet\"}],\"table\":[{\"cells\":{\"fill\":{\"color\":\"#EBF0F8\"},\"line\":{\"color\":\"white\"}},\"header\":{\"fill\":{\"color\":\"#C8D4E3\"},\"line\":{\"color\":\"white\"}},\"type\":\"table\"}],\"barpolar\":[{\"marker\":{\"line\":{\"color\":\"#E5ECF6\",\"width\":0.5},\"pattern\":{\"fillmode\":\"overlay\",\"size\":10,\"solidity\":0.2}},\"type\":\"barpolar\"}],\"pie\":[{\"automargin\":true,\"type\":\"pie\"}]},\"layout\":{\"autotypenumbers\":\"strict\",\"colorway\":[\"#636efa\",\"#EF553B\",\"#00cc96\",\"#ab63fa\",\"#FFA15A\",\"#19d3f3\",\"#FF6692\",\"#B6E880\",\"#FF97FF\",\"#FECB52\"],\"font\":{\"color\":\"#2a3f5f\"},\"hovermode\":\"closest\",\"hoverlabel\":{\"align\":\"left\"},\"paper_bgcolor\":\"white\",\"plot_bgcolor\":\"#E5ECF6\",\"polar\":{\"bgcolor\":\"#E5ECF6\",\"angularaxis\":{\"gridcolor\":\"white\",\"linecolor\":\"white\",\"ticks\":\"\"},\"radialaxis\":{\"gridcolor\":\"white\",\"linecolor\":\"white\",\"ticks\":\"\"}},\"ternary\":{\"bgcolor\":\"#E5ECF6\",\"aaxis\":{\"gridcolor\":\"white\",\"linecolor\":\"white\",\"ticks\":\"\"},\"baxis\":{\"gridcolor\":\"white\",\"linecolor\":\"white\",\"ticks\":\"\"},\"caxis\":{\"gridcolor\":\"white\",\"linecolor\":\"white\",\"ticks\":\"\"}},\"coloraxis\":{\"colorbar\":{\"outlinewidth\":0,\"ticks\":\"\"}},\"colorscale\":{\"sequential\":[[0.0,\"#0d0887\"],[0.1111111111111111,\"#46039f\"],[0.2222222222222222,\"#7201a8\"],[0.3333333333333333,\"#9c179e\"],[0.4444444444444444,\"#bd3786\"],[0.5555555555555556,\"#d8576b\"],[0.6666666666666666,\"#ed7953\"],[0.7777777777777778,\"#fb9f3a\"],[0.8888888888888888,\"#fdca26\"],[1.0,\"#f0f921\"]],\"sequentialminus\":[[0.0,\"#0d0887\"],[0.1111111111111111,\"#46039f\"],[0.2222222222222222,\"#7201a8\"],[0.3333333333333333,\"#9c179e\"],[0.4444444444444444,\"#bd3786\"],[0.5555555555555556,\"#d8576b\"],[0.6666666666666666,\"#ed7953\"],[0.7777777777777778,\"#fb9f3a\"],[0.8888888888888888,\"#fdca26\"],[1.0,\"#f0f921\"]],\"diverging\":[[0,\"#8e0152\"],[0.1,\"#c51b7d\"],[0.2,\"#de77ae\"],[0.3,\"#f1b6da\"],[0.4,\"#fde0ef\"],[0.5,\"#f7f7f7\"],[0.6,\"#e6f5d0\"],[0.7,\"#b8e186\"],[0.8,\"#7fbc41\"],[0.9,\"#4d9221\"],[1,\"#276419\"]]},\"xaxis\":{\"gridcolor\":\"white\",\"linecolor\":\"white\",\"ticks\":\"\",\"title\":{\"standoff\":15},\"zerolinecolor\":\"white\",\"automargin\":true,\"zerolinewidth\":2},\"yaxis\":{\"gridcolor\":\"white\",\"linecolor\":\"white\",\"ticks\":\"\",\"title\":{\"standoff\":15},\"zerolinecolor\":\"white\",\"automargin\":true,\"zerolinewidth\":2},\"scene\":{\"xaxis\":{\"backgroundcolor\":\"#E5ECF6\",\"gridcolor\":\"white\",\"linecolor\":\"white\",\"showbackground\":true,\"ticks\":\"\",\"zerolinecolor\":\"white\",\"gridwidth\":2},\"yaxis\":{\"backgroundcolor\":\"#E5ECF6\",\"gridcolor\":\"white\",\"linecolor\":\"white\",\"showbackground\":true,\"ticks\":\"\",\"zerolinecolor\":\"white\",\"gridwidth\":2},\"zaxis\":{\"backgroundcolor\":\"#E5ECF6\",\"gridcolor\":\"white\",\"linecolor\":\"white\",\"showbackground\":true,\"ticks\":\"\",\"zerolinecolor\":\"white\",\"gridwidth\":2}},\"shapedefaults\":{\"line\":{\"color\":\"#2a3f5f\"}},\"annotationdefaults\":{\"arrowcolor\":\"#2a3f5f\",\"arrowhead\":0,\"arrowwidth\":1},\"geo\":{\"bgcolor\":\"white\",\"landcolor\":\"#E5ECF6\",\"subunitcolor\":\"white\",\"showland\":true,\"showlakes\":true,\"lakecolor\":\"white\"},\"title\":{\"x\":0.05},\"mapbox\":{\"style\":\"light\"}}},\"xaxis\":{\"title\":{\"text\":\"X\"}},\"yaxis\":{\"title\":{\"text\":\"Y\"}},\"title\":{\"text\":\"Interactive Scatter Plot with Tooltips\"}},                        {\"responsive\": true}                    ).then(function(){\n",
       "                            \n",
       "var gd = document.getElementById('363953b7-f611-4de1-99bc-bef780898c28');\n",
       "var x = new MutationObserver(function (mutations, observer) {{\n",
       "        var display = window.getComputedStyle(gd).display;\n",
       "        if (!display || display === 'none') {{\n",
       "            console.log([gd, 'removed!']);\n",
       "            Plotly.purge(gd);\n",
       "            observer.disconnect();\n",
       "        }}\n",
       "}});\n",
       "\n",
       "// Listen for the removal of the full notebook cells\n",
       "var notebookContainer = gd.closest('#notebook-container');\n",
       "if (notebookContainer) {{\n",
       "    x.observe(notebookContainer, {childList: true});\n",
       "}}\n",
       "\n",
       "// Listen for the clearing of the current output cell\n",
       "var outputEl = gd.closest('.output');\n",
       "if (outputEl) {{\n",
       "    x.observe(outputEl, {childList: true});\n",
       "}}\n",
       "\n",
       "                        })                };                });            </script>        </div>"
      ]
     },
     "metadata": {},
     "output_type": "display_data"
    }
   ],
   "source": [
    "import plotly.graph_objects as go\n",
    "\n",
    "# Generate some sample data\n",
    "x = df['Aggregate ramp metering rate']\n",
    "y = df['Average Speed Lane 1']\n",
    "text = df['Timestamp']\n",
    "\n",
    "# Create a scatter plot with tooltips\n",
    "fig = go.Figure(data=go.Scatter(x=x, y=y, mode='markers',\n",
    "                               hovertext=text, hoverinfo='text+x+y'))\n",
    "\n",
    "# Set axes labels and title|\n",
    "fig.update_layout(xaxis_title='X', yaxis_title='Y', title='Interactive Scatter Plot with Tooltips')\n",
    "\n",
    "# Show the plot\n",
    "fig.show()"
   ]
  },
  {
   "cell_type": "code",
   "execution_count": 153,
   "id": "b8ec2b1f",
   "metadata": {},
   "outputs": [
    {
     "data": {
      "application/vnd.plotly.v1+json": {
       "config": {
        "plotlyServerURL": "https://plot.ly"
       },
       "data": [
        {
         "hoverinfo": "text+x+y",
         "hovertext": [
          "Index: 0, TimeStamp = 2023-04-19 15:15:00",
          "Index: 1, TimeStamp = 2023-04-19 15:20:00",
          "Index: 2, TimeStamp = 2023-04-19 15:30:00",
          "Index: 3, TimeStamp = 2023-04-19 15:35:00",
          "Index: 4, TimeStamp = 2023-04-19 15:40:00",
          "Index: 5, TimeStamp = 2023-04-19 15:45:00",
          "Index: 6, TimeStamp = 2023-04-19 15:50:00",
          "Index: 7, TimeStamp = 2023-04-19 15:55:00",
          "Index: 8, TimeStamp = 2023-04-19 16:00:00",
          "Index: 9, TimeStamp = 2023-04-19 16:05:00",
          "Index: 10, TimeStamp = 2023-04-19 16:15:00",
          "Index: 11, TimeStamp = 2023-04-19 16:20:00",
          "Index: 12, TimeStamp = 2023-04-19 16:25:00",
          "Index: 13, TimeStamp = 2023-04-19 16:30:00",
          "Index: 14, TimeStamp = 2023-04-19 16:35:00",
          "Index: 15, TimeStamp = 2023-04-19 16:40:00",
          "Index: 16, TimeStamp = 2023-04-19 16:45:00",
          "Index: 17, TimeStamp = 2023-04-19 16:55:00",
          "Index: 18, TimeStamp = 2023-04-19 17:00:00",
          "Index: 19, TimeStamp = 2023-04-19 17:05:00",
          "Index: 20, TimeStamp = 2023-04-19 17:10:00",
          "Index: 21, TimeStamp = 2023-04-19 17:15:00",
          "Index: 22, TimeStamp = 2023-04-19 17:20:00",
          "Index: 23, TimeStamp = 2023-04-19 17:25:00",
          "Index: 24, TimeStamp = 2023-04-19 17:30:00",
          "Index: 25, TimeStamp = 2023-04-19 17:35:00",
          "Index: 26, TimeStamp = 2023-04-19 17:40:00"
         ],
         "mode": "markers",
         "type": "scatter",
         "x": [
          445,
          377.5,
          427.5,
          416.666666666666,
          410,
          390,
          410,
          390,
          400,
          411.25,
          395,
          418,
          410,
          411.25,
          411.666666666666,
          395,
          421.666666666666,
          395,
          380,
          398,
          380,
          400,
          392,
          410,
          390,
          395,
          410
         ],
         "y": [
          27.1333333333333,
          13.8,
          23.4666666666666,
          20.8,
          20.8666666666666,
          17.2,
          15.4,
          16.4,
          18.3333333333333,
          17.8,
          18.2666666666666,
          18.8666666666666,
          19.2666666666666,
          18.6666666666666,
          15.9333333333333,
          16.2666666666666,
          21.8,
          18.9333333333333,
          19.2,
          18.4666666666666,
          14.2,
          16.1333333333333,
          11.9333333333333,
          14.9333333333333,
          16.1333333333333,
          16.8666666666666,
          16.8666666666666
         ]
        }
       ],
       "layout": {
        "template": {
         "data": {
          "bar": [
           {
            "error_x": {
             "color": "#2a3f5f"
            },
            "error_y": {
             "color": "#2a3f5f"
            },
            "marker": {
             "line": {
              "color": "#E5ECF6",
              "width": 0.5
             },
             "pattern": {
              "fillmode": "overlay",
              "size": 10,
              "solidity": 0.2
             }
            },
            "type": "bar"
           }
          ],
          "barpolar": [
           {
            "marker": {
             "line": {
              "color": "#E5ECF6",
              "width": 0.5
             },
             "pattern": {
              "fillmode": "overlay",
              "size": 10,
              "solidity": 0.2
             }
            },
            "type": "barpolar"
           }
          ],
          "carpet": [
           {
            "aaxis": {
             "endlinecolor": "#2a3f5f",
             "gridcolor": "white",
             "linecolor": "white",
             "minorgridcolor": "white",
             "startlinecolor": "#2a3f5f"
            },
            "baxis": {
             "endlinecolor": "#2a3f5f",
             "gridcolor": "white",
             "linecolor": "white",
             "minorgridcolor": "white",
             "startlinecolor": "#2a3f5f"
            },
            "type": "carpet"
           }
          ],
          "choropleth": [
           {
            "colorbar": {
             "outlinewidth": 0,
             "ticks": ""
            },
            "type": "choropleth"
           }
          ],
          "contour": [
           {
            "colorbar": {
             "outlinewidth": 0,
             "ticks": ""
            },
            "colorscale": [
             [
              0,
              "#0d0887"
             ],
             [
              0.1111111111111111,
              "#46039f"
             ],
             [
              0.2222222222222222,
              "#7201a8"
             ],
             [
              0.3333333333333333,
              "#9c179e"
             ],
             [
              0.4444444444444444,
              "#bd3786"
             ],
             [
              0.5555555555555556,
              "#d8576b"
             ],
             [
              0.6666666666666666,
              "#ed7953"
             ],
             [
              0.7777777777777778,
              "#fb9f3a"
             ],
             [
              0.8888888888888888,
              "#fdca26"
             ],
             [
              1,
              "#f0f921"
             ]
            ],
            "type": "contour"
           }
          ],
          "contourcarpet": [
           {
            "colorbar": {
             "outlinewidth": 0,
             "ticks": ""
            },
            "type": "contourcarpet"
           }
          ],
          "heatmap": [
           {
            "colorbar": {
             "outlinewidth": 0,
             "ticks": ""
            },
            "colorscale": [
             [
              0,
              "#0d0887"
             ],
             [
              0.1111111111111111,
              "#46039f"
             ],
             [
              0.2222222222222222,
              "#7201a8"
             ],
             [
              0.3333333333333333,
              "#9c179e"
             ],
             [
              0.4444444444444444,
              "#bd3786"
             ],
             [
              0.5555555555555556,
              "#d8576b"
             ],
             [
              0.6666666666666666,
              "#ed7953"
             ],
             [
              0.7777777777777778,
              "#fb9f3a"
             ],
             [
              0.8888888888888888,
              "#fdca26"
             ],
             [
              1,
              "#f0f921"
             ]
            ],
            "type": "heatmap"
           }
          ],
          "heatmapgl": [
           {
            "colorbar": {
             "outlinewidth": 0,
             "ticks": ""
            },
            "colorscale": [
             [
              0,
              "#0d0887"
             ],
             [
              0.1111111111111111,
              "#46039f"
             ],
             [
              0.2222222222222222,
              "#7201a8"
             ],
             [
              0.3333333333333333,
              "#9c179e"
             ],
             [
              0.4444444444444444,
              "#bd3786"
             ],
             [
              0.5555555555555556,
              "#d8576b"
             ],
             [
              0.6666666666666666,
              "#ed7953"
             ],
             [
              0.7777777777777778,
              "#fb9f3a"
             ],
             [
              0.8888888888888888,
              "#fdca26"
             ],
             [
              1,
              "#f0f921"
             ]
            ],
            "type": "heatmapgl"
           }
          ],
          "histogram": [
           {
            "marker": {
             "pattern": {
              "fillmode": "overlay",
              "size": 10,
              "solidity": 0.2
             }
            },
            "type": "histogram"
           }
          ],
          "histogram2d": [
           {
            "colorbar": {
             "outlinewidth": 0,
             "ticks": ""
            },
            "colorscale": [
             [
              0,
              "#0d0887"
             ],
             [
              0.1111111111111111,
              "#46039f"
             ],
             [
              0.2222222222222222,
              "#7201a8"
             ],
             [
              0.3333333333333333,
              "#9c179e"
             ],
             [
              0.4444444444444444,
              "#bd3786"
             ],
             [
              0.5555555555555556,
              "#d8576b"
             ],
             [
              0.6666666666666666,
              "#ed7953"
             ],
             [
              0.7777777777777778,
              "#fb9f3a"
             ],
             [
              0.8888888888888888,
              "#fdca26"
             ],
             [
              1,
              "#f0f921"
             ]
            ],
            "type": "histogram2d"
           }
          ],
          "histogram2dcontour": [
           {
            "colorbar": {
             "outlinewidth": 0,
             "ticks": ""
            },
            "colorscale": [
             [
              0,
              "#0d0887"
             ],
             [
              0.1111111111111111,
              "#46039f"
             ],
             [
              0.2222222222222222,
              "#7201a8"
             ],
             [
              0.3333333333333333,
              "#9c179e"
             ],
             [
              0.4444444444444444,
              "#bd3786"
             ],
             [
              0.5555555555555556,
              "#d8576b"
             ],
             [
              0.6666666666666666,
              "#ed7953"
             ],
             [
              0.7777777777777778,
              "#fb9f3a"
             ],
             [
              0.8888888888888888,
              "#fdca26"
             ],
             [
              1,
              "#f0f921"
             ]
            ],
            "type": "histogram2dcontour"
           }
          ],
          "mesh3d": [
           {
            "colorbar": {
             "outlinewidth": 0,
             "ticks": ""
            },
            "type": "mesh3d"
           }
          ],
          "parcoords": [
           {
            "line": {
             "colorbar": {
              "outlinewidth": 0,
              "ticks": ""
             }
            },
            "type": "parcoords"
           }
          ],
          "pie": [
           {
            "automargin": true,
            "type": "pie"
           }
          ],
          "scatter": [
           {
            "fillpattern": {
             "fillmode": "overlay",
             "size": 10,
             "solidity": 0.2
            },
            "type": "scatter"
           }
          ],
          "scatter3d": [
           {
            "line": {
             "colorbar": {
              "outlinewidth": 0,
              "ticks": ""
             }
            },
            "marker": {
             "colorbar": {
              "outlinewidth": 0,
              "ticks": ""
             }
            },
            "type": "scatter3d"
           }
          ],
          "scattercarpet": [
           {
            "marker": {
             "colorbar": {
              "outlinewidth": 0,
              "ticks": ""
             }
            },
            "type": "scattercarpet"
           }
          ],
          "scattergeo": [
           {
            "marker": {
             "colorbar": {
              "outlinewidth": 0,
              "ticks": ""
             }
            },
            "type": "scattergeo"
           }
          ],
          "scattergl": [
           {
            "marker": {
             "colorbar": {
              "outlinewidth": 0,
              "ticks": ""
             }
            },
            "type": "scattergl"
           }
          ],
          "scattermapbox": [
           {
            "marker": {
             "colorbar": {
              "outlinewidth": 0,
              "ticks": ""
             }
            },
            "type": "scattermapbox"
           }
          ],
          "scatterpolar": [
           {
            "marker": {
             "colorbar": {
              "outlinewidth": 0,
              "ticks": ""
             }
            },
            "type": "scatterpolar"
           }
          ],
          "scatterpolargl": [
           {
            "marker": {
             "colorbar": {
              "outlinewidth": 0,
              "ticks": ""
             }
            },
            "type": "scatterpolargl"
           }
          ],
          "scatterternary": [
           {
            "marker": {
             "colorbar": {
              "outlinewidth": 0,
              "ticks": ""
             }
            },
            "type": "scatterternary"
           }
          ],
          "surface": [
           {
            "colorbar": {
             "outlinewidth": 0,
             "ticks": ""
            },
            "colorscale": [
             [
              0,
              "#0d0887"
             ],
             [
              0.1111111111111111,
              "#46039f"
             ],
             [
              0.2222222222222222,
              "#7201a8"
             ],
             [
              0.3333333333333333,
              "#9c179e"
             ],
             [
              0.4444444444444444,
              "#bd3786"
             ],
             [
              0.5555555555555556,
              "#d8576b"
             ],
             [
              0.6666666666666666,
              "#ed7953"
             ],
             [
              0.7777777777777778,
              "#fb9f3a"
             ],
             [
              0.8888888888888888,
              "#fdca26"
             ],
             [
              1,
              "#f0f921"
             ]
            ],
            "type": "surface"
           }
          ],
          "table": [
           {
            "cells": {
             "fill": {
              "color": "#EBF0F8"
             },
             "line": {
              "color": "white"
             }
            },
            "header": {
             "fill": {
              "color": "#C8D4E3"
             },
             "line": {
              "color": "white"
             }
            },
            "type": "table"
           }
          ]
         },
         "layout": {
          "annotationdefaults": {
           "arrowcolor": "#2a3f5f",
           "arrowhead": 0,
           "arrowwidth": 1
          },
          "autotypenumbers": "strict",
          "coloraxis": {
           "colorbar": {
            "outlinewidth": 0,
            "ticks": ""
           }
          },
          "colorscale": {
           "diverging": [
            [
             0,
             "#8e0152"
            ],
            [
             0.1,
             "#c51b7d"
            ],
            [
             0.2,
             "#de77ae"
            ],
            [
             0.3,
             "#f1b6da"
            ],
            [
             0.4,
             "#fde0ef"
            ],
            [
             0.5,
             "#f7f7f7"
            ],
            [
             0.6,
             "#e6f5d0"
            ],
            [
             0.7,
             "#b8e186"
            ],
            [
             0.8,
             "#7fbc41"
            ],
            [
             0.9,
             "#4d9221"
            ],
            [
             1,
             "#276419"
            ]
           ],
           "sequential": [
            [
             0,
             "#0d0887"
            ],
            [
             0.1111111111111111,
             "#46039f"
            ],
            [
             0.2222222222222222,
             "#7201a8"
            ],
            [
             0.3333333333333333,
             "#9c179e"
            ],
            [
             0.4444444444444444,
             "#bd3786"
            ],
            [
             0.5555555555555556,
             "#d8576b"
            ],
            [
             0.6666666666666666,
             "#ed7953"
            ],
            [
             0.7777777777777778,
             "#fb9f3a"
            ],
            [
             0.8888888888888888,
             "#fdca26"
            ],
            [
             1,
             "#f0f921"
            ]
           ],
           "sequentialminus": [
            [
             0,
             "#0d0887"
            ],
            [
             0.1111111111111111,
             "#46039f"
            ],
            [
             0.2222222222222222,
             "#7201a8"
            ],
            [
             0.3333333333333333,
             "#9c179e"
            ],
            [
             0.4444444444444444,
             "#bd3786"
            ],
            [
             0.5555555555555556,
             "#d8576b"
            ],
            [
             0.6666666666666666,
             "#ed7953"
            ],
            [
             0.7777777777777778,
             "#fb9f3a"
            ],
            [
             0.8888888888888888,
             "#fdca26"
            ],
            [
             1,
             "#f0f921"
            ]
           ]
          },
          "colorway": [
           "#636efa",
           "#EF553B",
           "#00cc96",
           "#ab63fa",
           "#FFA15A",
           "#19d3f3",
           "#FF6692",
           "#B6E880",
           "#FF97FF",
           "#FECB52"
          ],
          "font": {
           "color": "#2a3f5f"
          },
          "geo": {
           "bgcolor": "white",
           "lakecolor": "white",
           "landcolor": "#E5ECF6",
           "showlakes": true,
           "showland": true,
           "subunitcolor": "white"
          },
          "hoverlabel": {
           "align": "left"
          },
          "hovermode": "closest",
          "mapbox": {
           "style": "light"
          },
          "paper_bgcolor": "white",
          "plot_bgcolor": "#E5ECF6",
          "polar": {
           "angularaxis": {
            "gridcolor": "white",
            "linecolor": "white",
            "ticks": ""
           },
           "bgcolor": "#E5ECF6",
           "radialaxis": {
            "gridcolor": "white",
            "linecolor": "white",
            "ticks": ""
           }
          },
          "scene": {
           "xaxis": {
            "backgroundcolor": "#E5ECF6",
            "gridcolor": "white",
            "gridwidth": 2,
            "linecolor": "white",
            "showbackground": true,
            "ticks": "",
            "zerolinecolor": "white"
           },
           "yaxis": {
            "backgroundcolor": "#E5ECF6",
            "gridcolor": "white",
            "gridwidth": 2,
            "linecolor": "white",
            "showbackground": true,
            "ticks": "",
            "zerolinecolor": "white"
           },
           "zaxis": {
            "backgroundcolor": "#E5ECF6",
            "gridcolor": "white",
            "gridwidth": 2,
            "linecolor": "white",
            "showbackground": true,
            "ticks": "",
            "zerolinecolor": "white"
           }
          },
          "shapedefaults": {
           "line": {
            "color": "#2a3f5f"
           }
          },
          "ternary": {
           "aaxis": {
            "gridcolor": "white",
            "linecolor": "white",
            "ticks": ""
           },
           "baxis": {
            "gridcolor": "white",
            "linecolor": "white",
            "ticks": ""
           },
           "bgcolor": "#E5ECF6",
           "caxis": {
            "gridcolor": "white",
            "linecolor": "white",
            "ticks": ""
           }
          },
          "title": {
           "x": 0.05
          },
          "xaxis": {
           "automargin": true,
           "gridcolor": "white",
           "linecolor": "white",
           "ticks": "",
           "title": {
            "standoff": 15
           },
           "zerolinecolor": "white",
           "zerolinewidth": 2
          },
          "yaxis": {
           "automargin": true,
           "gridcolor": "white",
           "linecolor": "white",
           "ticks": "",
           "title": {
            "standoff": 15
           },
           "zerolinecolor": "white",
           "zerolinewidth": 2
          }
         }
        },
        "title": {
         "text": "Interactive Scatter Plot with Tooltips"
        },
        "xaxis": {
         "title": {
          "text": "X"
         }
        },
        "yaxis": {
         "title": {
          "text": "Y"
         }
        }
       }
      },
      "text/html": [
       "<div>                            <div id=\"0c618866-b39d-4d8c-a0f1-61b11a9d860f\" class=\"plotly-graph-div\" style=\"height:525px; width:100%;\"></div>            <script type=\"text/javascript\">                require([\"plotly\"], function(Plotly) {                    window.PLOTLYENV=window.PLOTLYENV || {};                                    if (document.getElementById(\"0c618866-b39d-4d8c-a0f1-61b11a9d860f\")) {                    Plotly.newPlot(                        \"0c618866-b39d-4d8c-a0f1-61b11a9d860f\",                        [{\"hoverinfo\":\"text+x+y\",\"hovertext\":[\"Index: 0, TimeStamp = 2023-04-19 15:15:00\",\"Index: 1, TimeStamp = 2023-04-19 15:20:00\",\"Index: 2, TimeStamp = 2023-04-19 15:30:00\",\"Index: 3, TimeStamp = 2023-04-19 15:35:00\",\"Index: 4, TimeStamp = 2023-04-19 15:40:00\",\"Index: 5, TimeStamp = 2023-04-19 15:45:00\",\"Index: 6, TimeStamp = 2023-04-19 15:50:00\",\"Index: 7, TimeStamp = 2023-04-19 15:55:00\",\"Index: 8, TimeStamp = 2023-04-19 16:00:00\",\"Index: 9, TimeStamp = 2023-04-19 16:05:00\",\"Index: 10, TimeStamp = 2023-04-19 16:15:00\",\"Index: 11, TimeStamp = 2023-04-19 16:20:00\",\"Index: 12, TimeStamp = 2023-04-19 16:25:00\",\"Index: 13, TimeStamp = 2023-04-19 16:30:00\",\"Index: 14, TimeStamp = 2023-04-19 16:35:00\",\"Index: 15, TimeStamp = 2023-04-19 16:40:00\",\"Index: 16, TimeStamp = 2023-04-19 16:45:00\",\"Index: 17, TimeStamp = 2023-04-19 16:55:00\",\"Index: 18, TimeStamp = 2023-04-19 17:00:00\",\"Index: 19, TimeStamp = 2023-04-19 17:05:00\",\"Index: 20, TimeStamp = 2023-04-19 17:10:00\",\"Index: 21, TimeStamp = 2023-04-19 17:15:00\",\"Index: 22, TimeStamp = 2023-04-19 17:20:00\",\"Index: 23, TimeStamp = 2023-04-19 17:25:00\",\"Index: 24, TimeStamp = 2023-04-19 17:30:00\",\"Index: 25, TimeStamp = 2023-04-19 17:35:00\",\"Index: 26, TimeStamp = 2023-04-19 17:40:00\"],\"mode\":\"markers\",\"x\":[445.0,377.5,427.5,416.666666666666,410.0,390.0,410.0,390.0,400.0,411.25,395.0,418.0,410.0,411.25,411.666666666666,395.0,421.666666666666,395.0,380.0,398.0,380.0,400.0,392.0,410.0,390.0,395.0,410.0],\"y\":[27.1333333333333,13.8,23.4666666666666,20.8,20.8666666666666,17.2,15.4,16.4,18.3333333333333,17.8,18.2666666666666,18.8666666666666,19.2666666666666,18.6666666666666,15.9333333333333,16.2666666666666,21.8,18.9333333333333,19.2,18.4666666666666,14.2,16.1333333333333,11.9333333333333,14.9333333333333,16.1333333333333,16.8666666666666,16.8666666666666],\"type\":\"scatter\"}],                        {\"template\":{\"data\":{\"histogram2dcontour\":[{\"type\":\"histogram2dcontour\",\"colorbar\":{\"outlinewidth\":0,\"ticks\":\"\"},\"colorscale\":[[0.0,\"#0d0887\"],[0.1111111111111111,\"#46039f\"],[0.2222222222222222,\"#7201a8\"],[0.3333333333333333,\"#9c179e\"],[0.4444444444444444,\"#bd3786\"],[0.5555555555555556,\"#d8576b\"],[0.6666666666666666,\"#ed7953\"],[0.7777777777777778,\"#fb9f3a\"],[0.8888888888888888,\"#fdca26\"],[1.0,\"#f0f921\"]]}],\"choropleth\":[{\"type\":\"choropleth\",\"colorbar\":{\"outlinewidth\":0,\"ticks\":\"\"}}],\"histogram2d\":[{\"type\":\"histogram2d\",\"colorbar\":{\"outlinewidth\":0,\"ticks\":\"\"},\"colorscale\":[[0.0,\"#0d0887\"],[0.1111111111111111,\"#46039f\"],[0.2222222222222222,\"#7201a8\"],[0.3333333333333333,\"#9c179e\"],[0.4444444444444444,\"#bd3786\"],[0.5555555555555556,\"#d8576b\"],[0.6666666666666666,\"#ed7953\"],[0.7777777777777778,\"#fb9f3a\"],[0.8888888888888888,\"#fdca26\"],[1.0,\"#f0f921\"]]}],\"heatmap\":[{\"type\":\"heatmap\",\"colorbar\":{\"outlinewidth\":0,\"ticks\":\"\"},\"colorscale\":[[0.0,\"#0d0887\"],[0.1111111111111111,\"#46039f\"],[0.2222222222222222,\"#7201a8\"],[0.3333333333333333,\"#9c179e\"],[0.4444444444444444,\"#bd3786\"],[0.5555555555555556,\"#d8576b\"],[0.6666666666666666,\"#ed7953\"],[0.7777777777777778,\"#fb9f3a\"],[0.8888888888888888,\"#fdca26\"],[1.0,\"#f0f921\"]]}],\"heatmapgl\":[{\"type\":\"heatmapgl\",\"colorbar\":{\"outlinewidth\":0,\"ticks\":\"\"},\"colorscale\":[[0.0,\"#0d0887\"],[0.1111111111111111,\"#46039f\"],[0.2222222222222222,\"#7201a8\"],[0.3333333333333333,\"#9c179e\"],[0.4444444444444444,\"#bd3786\"],[0.5555555555555556,\"#d8576b\"],[0.6666666666666666,\"#ed7953\"],[0.7777777777777778,\"#fb9f3a\"],[0.8888888888888888,\"#fdca26\"],[1.0,\"#f0f921\"]]}],\"contourcarpet\":[{\"type\":\"contourcarpet\",\"colorbar\":{\"outlinewidth\":0,\"ticks\":\"\"}}],\"contour\":[{\"type\":\"contour\",\"colorbar\":{\"outlinewidth\":0,\"ticks\":\"\"},\"colorscale\":[[0.0,\"#0d0887\"],[0.1111111111111111,\"#46039f\"],[0.2222222222222222,\"#7201a8\"],[0.3333333333333333,\"#9c179e\"],[0.4444444444444444,\"#bd3786\"],[0.5555555555555556,\"#d8576b\"],[0.6666666666666666,\"#ed7953\"],[0.7777777777777778,\"#fb9f3a\"],[0.8888888888888888,\"#fdca26\"],[1.0,\"#f0f921\"]]}],\"surface\":[{\"type\":\"surface\",\"colorbar\":{\"outlinewidth\":0,\"ticks\":\"\"},\"colorscale\":[[0.0,\"#0d0887\"],[0.1111111111111111,\"#46039f\"],[0.2222222222222222,\"#7201a8\"],[0.3333333333333333,\"#9c179e\"],[0.4444444444444444,\"#bd3786\"],[0.5555555555555556,\"#d8576b\"],[0.6666666666666666,\"#ed7953\"],[0.7777777777777778,\"#fb9f3a\"],[0.8888888888888888,\"#fdca26\"],[1.0,\"#f0f921\"]]}],\"mesh3d\":[{\"type\":\"mesh3d\",\"colorbar\":{\"outlinewidth\":0,\"ticks\":\"\"}}],\"scatter\":[{\"fillpattern\":{\"fillmode\":\"overlay\",\"size\":10,\"solidity\":0.2},\"type\":\"scatter\"}],\"parcoords\":[{\"type\":\"parcoords\",\"line\":{\"colorbar\":{\"outlinewidth\":0,\"ticks\":\"\"}}}],\"scatterpolargl\":[{\"type\":\"scatterpolargl\",\"marker\":{\"colorbar\":{\"outlinewidth\":0,\"ticks\":\"\"}}}],\"bar\":[{\"error_x\":{\"color\":\"#2a3f5f\"},\"error_y\":{\"color\":\"#2a3f5f\"},\"marker\":{\"line\":{\"color\":\"#E5ECF6\",\"width\":0.5},\"pattern\":{\"fillmode\":\"overlay\",\"size\":10,\"solidity\":0.2}},\"type\":\"bar\"}],\"scattergeo\":[{\"type\":\"scattergeo\",\"marker\":{\"colorbar\":{\"outlinewidth\":0,\"ticks\":\"\"}}}],\"scatterpolar\":[{\"type\":\"scatterpolar\",\"marker\":{\"colorbar\":{\"outlinewidth\":0,\"ticks\":\"\"}}}],\"histogram\":[{\"marker\":{\"pattern\":{\"fillmode\":\"overlay\",\"size\":10,\"solidity\":0.2}},\"type\":\"histogram\"}],\"scattergl\":[{\"type\":\"scattergl\",\"marker\":{\"colorbar\":{\"outlinewidth\":0,\"ticks\":\"\"}}}],\"scatter3d\":[{\"type\":\"scatter3d\",\"line\":{\"colorbar\":{\"outlinewidth\":0,\"ticks\":\"\"}},\"marker\":{\"colorbar\":{\"outlinewidth\":0,\"ticks\":\"\"}}}],\"scattermapbox\":[{\"type\":\"scattermapbox\",\"marker\":{\"colorbar\":{\"outlinewidth\":0,\"ticks\":\"\"}}}],\"scatterternary\":[{\"type\":\"scatterternary\",\"marker\":{\"colorbar\":{\"outlinewidth\":0,\"ticks\":\"\"}}}],\"scattercarpet\":[{\"type\":\"scattercarpet\",\"marker\":{\"colorbar\":{\"outlinewidth\":0,\"ticks\":\"\"}}}],\"carpet\":[{\"aaxis\":{\"endlinecolor\":\"#2a3f5f\",\"gridcolor\":\"white\",\"linecolor\":\"white\",\"minorgridcolor\":\"white\",\"startlinecolor\":\"#2a3f5f\"},\"baxis\":{\"endlinecolor\":\"#2a3f5f\",\"gridcolor\":\"white\",\"linecolor\":\"white\",\"minorgridcolor\":\"white\",\"startlinecolor\":\"#2a3f5f\"},\"type\":\"carpet\"}],\"table\":[{\"cells\":{\"fill\":{\"color\":\"#EBF0F8\"},\"line\":{\"color\":\"white\"}},\"header\":{\"fill\":{\"color\":\"#C8D4E3\"},\"line\":{\"color\":\"white\"}},\"type\":\"table\"}],\"barpolar\":[{\"marker\":{\"line\":{\"color\":\"#E5ECF6\",\"width\":0.5},\"pattern\":{\"fillmode\":\"overlay\",\"size\":10,\"solidity\":0.2}},\"type\":\"barpolar\"}],\"pie\":[{\"automargin\":true,\"type\":\"pie\"}]},\"layout\":{\"autotypenumbers\":\"strict\",\"colorway\":[\"#636efa\",\"#EF553B\",\"#00cc96\",\"#ab63fa\",\"#FFA15A\",\"#19d3f3\",\"#FF6692\",\"#B6E880\",\"#FF97FF\",\"#FECB52\"],\"font\":{\"color\":\"#2a3f5f\"},\"hovermode\":\"closest\",\"hoverlabel\":{\"align\":\"left\"},\"paper_bgcolor\":\"white\",\"plot_bgcolor\":\"#E5ECF6\",\"polar\":{\"bgcolor\":\"#E5ECF6\",\"angularaxis\":{\"gridcolor\":\"white\",\"linecolor\":\"white\",\"ticks\":\"\"},\"radialaxis\":{\"gridcolor\":\"white\",\"linecolor\":\"white\",\"ticks\":\"\"}},\"ternary\":{\"bgcolor\":\"#E5ECF6\",\"aaxis\":{\"gridcolor\":\"white\",\"linecolor\":\"white\",\"ticks\":\"\"},\"baxis\":{\"gridcolor\":\"white\",\"linecolor\":\"white\",\"ticks\":\"\"},\"caxis\":{\"gridcolor\":\"white\",\"linecolor\":\"white\",\"ticks\":\"\"}},\"coloraxis\":{\"colorbar\":{\"outlinewidth\":0,\"ticks\":\"\"}},\"colorscale\":{\"sequential\":[[0.0,\"#0d0887\"],[0.1111111111111111,\"#46039f\"],[0.2222222222222222,\"#7201a8\"],[0.3333333333333333,\"#9c179e\"],[0.4444444444444444,\"#bd3786\"],[0.5555555555555556,\"#d8576b\"],[0.6666666666666666,\"#ed7953\"],[0.7777777777777778,\"#fb9f3a\"],[0.8888888888888888,\"#fdca26\"],[1.0,\"#f0f921\"]],\"sequentialminus\":[[0.0,\"#0d0887\"],[0.1111111111111111,\"#46039f\"],[0.2222222222222222,\"#7201a8\"],[0.3333333333333333,\"#9c179e\"],[0.4444444444444444,\"#bd3786\"],[0.5555555555555556,\"#d8576b\"],[0.6666666666666666,\"#ed7953\"],[0.7777777777777778,\"#fb9f3a\"],[0.8888888888888888,\"#fdca26\"],[1.0,\"#f0f921\"]],\"diverging\":[[0,\"#8e0152\"],[0.1,\"#c51b7d\"],[0.2,\"#de77ae\"],[0.3,\"#f1b6da\"],[0.4,\"#fde0ef\"],[0.5,\"#f7f7f7\"],[0.6,\"#e6f5d0\"],[0.7,\"#b8e186\"],[0.8,\"#7fbc41\"],[0.9,\"#4d9221\"],[1,\"#276419\"]]},\"xaxis\":{\"gridcolor\":\"white\",\"linecolor\":\"white\",\"ticks\":\"\",\"title\":{\"standoff\":15},\"zerolinecolor\":\"white\",\"automargin\":true,\"zerolinewidth\":2},\"yaxis\":{\"gridcolor\":\"white\",\"linecolor\":\"white\",\"ticks\":\"\",\"title\":{\"standoff\":15},\"zerolinecolor\":\"white\",\"automargin\":true,\"zerolinewidth\":2},\"scene\":{\"xaxis\":{\"backgroundcolor\":\"#E5ECF6\",\"gridcolor\":\"white\",\"linecolor\":\"white\",\"showbackground\":true,\"ticks\":\"\",\"zerolinecolor\":\"white\",\"gridwidth\":2},\"yaxis\":{\"backgroundcolor\":\"#E5ECF6\",\"gridcolor\":\"white\",\"linecolor\":\"white\",\"showbackground\":true,\"ticks\":\"\",\"zerolinecolor\":\"white\",\"gridwidth\":2},\"zaxis\":{\"backgroundcolor\":\"#E5ECF6\",\"gridcolor\":\"white\",\"linecolor\":\"white\",\"showbackground\":true,\"ticks\":\"\",\"zerolinecolor\":\"white\",\"gridwidth\":2}},\"shapedefaults\":{\"line\":{\"color\":\"#2a3f5f\"}},\"annotationdefaults\":{\"arrowcolor\":\"#2a3f5f\",\"arrowhead\":0,\"arrowwidth\":1},\"geo\":{\"bgcolor\":\"white\",\"landcolor\":\"#E5ECF6\",\"subunitcolor\":\"white\",\"showland\":true,\"showlakes\":true,\"lakecolor\":\"white\"},\"title\":{\"x\":0.05},\"mapbox\":{\"style\":\"light\"}}},\"xaxis\":{\"title\":{\"text\":\"X\"}},\"yaxis\":{\"title\":{\"text\":\"Y\"}},\"title\":{\"text\":\"Interactive Scatter Plot with Tooltips\"}},                        {\"responsive\": true}                    ).then(function(){\n",
       "                            \n",
       "var gd = document.getElementById('0c618866-b39d-4d8c-a0f1-61b11a9d860f');\n",
       "var x = new MutationObserver(function (mutations, observer) {{\n",
       "        var display = window.getComputedStyle(gd).display;\n",
       "        if (!display || display === 'none') {{\n",
       "            console.log([gd, 'removed!']);\n",
       "            Plotly.purge(gd);\n",
       "            observer.disconnect();\n",
       "        }}\n",
       "}});\n",
       "\n",
       "// Listen for the removal of the full notebook cells\n",
       "var notebookContainer = gd.closest('#notebook-container');\n",
       "if (notebookContainer) {{\n",
       "    x.observe(notebookContainer, {childList: true});\n",
       "}}\n",
       "\n",
       "// Listen for the clearing of the current output cell\n",
       "var outputEl = gd.closest('.output');\n",
       "if (outputEl) {{\n",
       "    x.observe(outputEl, {childList: true});\n",
       "}}\n",
       "\n",
       "                        })                };                });            </script>        </div>"
      ]
     },
     "metadata": {},
     "output_type": "display_data"
    }
   ],
   "source": [
    "import plotly.graph_objects as go\n",
    "\n",
    "# Generate some sample data\n",
    "x = df['Aggregate ramp metering rate']\n",
    "y = df['Average Speed Lane 1']\n",
    "text = [f\"Index: {i}, TimeStamp = {df.loc[i]['Timestamp']}\" for i in range(len(x))]\n",
    "\n",
    "# Create a scatter plot with tooltips\n",
    "fig = go.Figure(data=go.Scatter(x=x, y=y, mode='markers',\n",
    "                               hovertext=text, hoverinfo='text+x+y'))\n",
    "\n",
    "# Set axes labels and title\n",
    "fig.update_layout(xaxis_title='X', yaxis_title='Y', title='Interactive Scatter Plot with Tooltips')\n",
    "\n",
    "# Show the plot\n",
    "fig.show()"
   ]
  },
  {
   "cell_type": "code",
   "execution_count": null,
   "id": "3d89ed96",
   "metadata": {},
   "outputs": [],
   "source": []
  }
 ],
 "metadata": {
  "kernelspec": {
   "display_name": "Python 3 (ipykernel)",
   "language": "python",
   "name": "python3"
  },
  "language_info": {
   "codemirror_mode": {
    "name": "ipython",
    "version": 3
   },
   "file_extension": ".py",
   "mimetype": "text/x-python",
   "name": "python",
   "nbconvert_exporter": "python",
   "pygments_lexer": "ipython3",
   "version": "3.11.4"
  },
  "varInspector": {
   "cols": {
    "lenName": 16,
    "lenType": 16,
    "lenVar": 40
   },
   "kernels_config": {
    "python": {
     "delete_cmd_postfix": "",
     "delete_cmd_prefix": "del ",
     "library": "var_list.py",
     "varRefreshCmd": "print(var_dic_list())"
    },
    "r": {
     "delete_cmd_postfix": ") ",
     "delete_cmd_prefix": "rm(",
     "library": "var_list.r",
     "varRefreshCmd": "cat(var_dic_list()) "
    }
   },
   "types_to_exclude": [
    "module",
    "function",
    "builtin_function_or_method",
    "instance",
    "_Feature"
   ],
   "window_display": false
  }
 },
 "nbformat": 4,
 "nbformat_minor": 5
}
